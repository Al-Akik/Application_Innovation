{
 "cells": [
  {
   "cell_type": "code",
   "execution_count": null,
   "metadata": {
    "_cell_guid": "b1076dfc-b9ad-4769-8c92-a6c4dae69d19",
    "_uuid": "8f2839f25d086af736a60e9eeb907d3b93b6e0e5",
    "execution": {
     "iopub.execute_input": "2023-01-05T09:33:30.173193Z",
     "iopub.status.busy": "2023-01-05T09:33:30.171336Z",
     "iopub.status.idle": "2023-01-05T09:33:31.110241Z",
     "shell.execute_reply": "2023-01-05T09:33:31.109162Z",
     "shell.execute_reply.started": "2023-01-05T09:33:30.173118Z"
    },
    "id": "Lq35Z9PoJER4"
   },
   "outputs": [],
   "source": [
    "import pandas as pd\n",
    "import numpy as np\n",
    "import seaborn as sns\n",
    "import matplotlib.pyplot as plt"
   ]
  },
  {
   "cell_type": "code",
   "execution_count": null,
   "metadata": {
    "colab": {
     "base_uri": "https://localhost:8080/"
    },
    "execution": {
     "iopub.execute_input": "2023-01-05T09:33:31.119302Z",
     "iopub.status.busy": "2023-01-05T09:33:31.116458Z",
     "iopub.status.idle": "2023-01-05T09:33:37.991639Z",
     "shell.execute_reply": "2023-01-05T09:33:37.990465Z",
     "shell.execute_reply.started": "2023-01-05T09:33:31.119264Z"
    },
    "id": "esdMHNmVJER7",
    "outputId": "f26dcada-f7f8-4b93-c408-49a7123bdfa6"
   },
   "outputs": [],
   "source": [
    "import tensorflow as tf\n",
    "num_gpus_available = len(tf.config.experimental.list_physical_devices('GPU'))\n",
    "print(\"Num GPUs Available: \", num_gpus_available)\n",
    "import torch\n",
    "device = 'cuda' if torch.cuda.is_available() else 'cpu'\n",
    "import pandas as pd\n",
    "import numpy as np\n",
    "import torch"
   ]
  },
  {
   "cell_type": "code",
   "execution_count": null,
   "metadata": {
    "execution": {
     "iopub.execute_input": "2023-01-05T09:33:37.993660Z",
     "iopub.status.busy": "2023-01-05T09:33:37.993018Z",
     "iopub.status.idle": "2023-01-05T09:33:38.951696Z",
     "shell.execute_reply": "2023-01-05T09:33:38.950748Z",
     "shell.execute_reply.started": "2023-01-05T09:33:37.993629Z"
    },
    "id": "NpvKHgVCJER8"
   },
   "outputs": [],
   "source": [
    "df = pd.read_csv(\"complete_preprocessing.csv\",encoding = \"utf-8\",sep = ',')"
   ]
  },
  {
   "cell_type": "code",
   "execution_count": null,
   "metadata": {
    "colab": {
     "base_uri": "https://localhost:8080/",
     "height": 424
    },
    "execution": {
     "iopub.execute_input": "2023-01-05T09:33:38.969293Z",
     "iopub.status.busy": "2023-01-05T09:33:38.968905Z",
     "iopub.status.idle": "2023-01-05T09:33:38.994583Z",
     "shell.execute_reply": "2023-01-05T09:33:38.993774Z",
     "shell.execute_reply.started": "2023-01-05T09:33:38.969253Z"
    },
    "id": "VqzbF4whJER9",
    "outputId": "15f7b67e-2456-4203-9682-f4f8559ece79"
   },
   "outputs": [],
   "source": [
    "df"
   ]
  },
  {
   "cell_type": "code",
   "execution_count": null,
   "metadata": {
    "id": "RKPJ3-YUJhPy"
   },
   "outputs": [],
   "source": [
    "df_dev = pd.read_csv(\"dev_complete_preprocessing.csv\",encoding = \"utf-8\",sep = ',')"
   ]
  },
  {
   "cell_type": "code",
   "execution_count": null,
   "metadata": {
    "colab": {
     "base_uri": "https://localhost:8080/",
     "height": 424
    },
    "id": "nW1ndobYKJY2",
    "outputId": "bb629be5-0cba-40c6-fdee-6752dd7dc886"
   },
   "outputs": [],
   "source": [
    "df_dev"
   ]
  },
  {
   "cell_type": "code",
   "execution_count": null,
   "metadata": {
    "id": "gkKC3xIqTJ_9"
   },
   "outputs": [],
   "source": [
    "df_test = pd.read_csv(\"test_complete_preprocessing_stp_frsc.csv\",encoding = \"utf-8\",sep = ',')"
   ]
  },
  {
   "cell_type": "code",
   "execution_count": null,
   "metadata": {
    "id": "3En0N1doTKyQ"
   },
   "outputs": [],
   "source": [
    "df_test"
   ]
  },
  {
   "cell_type": "code",
   "execution_count": null,
   "metadata": {
    "colab": {
     "base_uri": "https://localhost:8080/",
     "height": 384
    },
    "execution": {
     "iopub.execute_input": "2023-01-05T09:33:38.995937Z",
     "iopub.status.busy": "2023-01-05T09:33:38.995659Z",
     "iopub.status.idle": "2023-01-05T09:33:39.251714Z",
     "shell.execute_reply": "2023-01-05T09:33:39.250749Z",
     "shell.execute_reply.started": "2023-01-05T09:33:38.995914Z"
    },
    "id": "J0YD5sUgJER-",
    "outputId": "8aff1119-7bb8-4b1d-fd5b-ff1d60069a5a"
   },
   "outputs": [],
   "source": [
    "import matplotlib.pyplot as plt\n",
    "fig = plt.figure(figsize=(8,6))\n",
    "df.groupby('note').commentaire.count().plot.bar(ylim=0)\n",
    "plt.show()"
   ]
  },
  {
   "cell_type": "code",
   "execution_count": null,
   "metadata": {
    "colab": {
     "base_uri": "https://localhost:8080/"
    },
    "execution": {
     "iopub.execute_input": "2023-01-05T09:33:49.880572Z",
     "iopub.status.busy": "2023-01-05T09:33:49.880203Z",
     "iopub.status.idle": "2023-01-05T09:33:58.947461Z",
     "shell.execute_reply": "2023-01-05T09:33:58.946206Z",
     "shell.execute_reply.started": "2023-01-05T09:33:49.880541Z"
    },
    "id": "SW1GA4PvJER_",
    "outputId": "902764fe-2d62-428a-cda3-6318a65912cb"
   },
   "outputs": [],
   "source": [
    "!pip install sentencepiece"
   ]
  },
  {
   "cell_type": "code",
   "execution_count": null,
   "metadata": {
    "colab": {
     "base_uri": "https://localhost:8080/"
    },
    "execution": {
     "iopub.execute_input": "2023-01-05T09:33:39.254516Z",
     "iopub.status.busy": "2023-01-05T09:33:39.253638Z",
     "iopub.status.idle": "2023-01-05T09:33:49.876921Z",
     "shell.execute_reply": "2023-01-05T09:33:49.875787Z",
     "shell.execute_reply.started": "2023-01-05T09:33:39.254474Z"
    },
    "id": "5Y4E2JHhJER-",
    "outputId": "0d5e974b-7739-42da-9456-1c492df90530"
   },
   "outputs": [],
   "source": [
    "!pip install transformers"
   ]
  },
  {
   "cell_type": "code",
   "execution_count": null,
   "metadata": {
    "execution": {
     "iopub.execute_input": "2023-01-05T09:33:58.950009Z",
     "iopub.status.busy": "2023-01-05T09:33:58.949357Z",
     "iopub.status.idle": "2023-01-05T09:33:59.486688Z",
     "shell.execute_reply": "2023-01-05T09:33:59.485754Z",
     "shell.execute_reply.started": "2023-01-05T09:33:58.949969Z"
    },
    "id": "PgJj6gPHJER_"
   },
   "outputs": [],
   "source": [
    "from keras.preprocessing.text import text_to_word_sequence\n",
    "def maxNumWords360(text):\n",
    "    l=text_to_word_sequence(str(text))\n",
    "    if len(l) >= 360:\n",
    "        l = l[:360]\n",
    "    return \" \".join(l)\n",
    "\n",
    "maxWordsNum = 0\n",
    "def maxNumWords(text):\n",
    "    global maxWordsNum\n",
    "    l = text_to_word_sequence(str(text))\n",
    "    if len(l) > maxWordsNum:\n",
    "        maxWordsNum = len(l)"
   ]
  },
  {
   "cell_type": "code",
   "execution_count": null,
   "metadata": {
    "colab": {
     "base_uri": "https://localhost:8080/"
    },
    "execution": {
     "iopub.execute_input": "2023-01-05T09:33:59.491213Z",
     "iopub.status.busy": "2023-01-05T09:33:59.490934Z",
     "iopub.status.idle": "2023-01-05T09:34:03.160948Z",
     "shell.execute_reply": "2023-01-05T09:34:03.159805Z",
     "shell.execute_reply.started": "2023-01-05T09:33:59.491187Z"
    },
    "id": "IHGC5rkjJESA",
    "outputId": "b4ce8f2a-2d2e-4e27-f368-df8c4f4026d7"
   },
   "outputs": [],
   "source": [
    "df.commentaire.apply(maxNumWords)\n",
    "df_dev.commentaire.apply(maxNumWords)\n",
    "print(\"Max num of words per sentence in the training set is: \",maxWordsNum)\n",
    "maxWordsNum = 0\n",
    "\n",
    "df.commentaire=df.commentaire.apply(maxNumWords360)\n",
    "df_dev.commentaire=df_dev.commentaire.apply(maxNumWords360)\n",
    "df.commentaire.apply(maxNumWords)\n",
    "print(\"Max num of words per sentence in the training set is: \",maxWordsNum)"
   ]
  },
  {
   "cell_type": "code",
   "execution_count": null,
   "metadata": {
    "id": "JNjxqgK6TQyq"
   },
   "outputs": [],
   "source": [
    "df_test.commentaire.apply(maxNumWords)\n",
    "print(\"Max num of words per sentence in the training set is: \",maxWordsNum)\n",
    "maxWordsNum = 0\n",
    "\n",
    "df_test.commentaire=df_test.commentaire.apply(maxNumWords360)\n",
    "\n",
    "df_test.commentaire.apply(maxNumWords)\n",
    "print(\"Max num of words per sentence in the training set is: \",maxWordsNum)"
   ]
  },
  {
   "cell_type": "code",
   "execution_count": null,
   "metadata": {
    "colab": {
     "base_uri": "https://localhost:8080/",
     "height": 424
    },
    "execution": {
     "iopub.execute_input": "2023-01-05T09:35:25.184954Z",
     "iopub.status.busy": "2023-01-05T09:35:25.184478Z",
     "iopub.status.idle": "2023-01-05T09:35:25.202883Z",
     "shell.execute_reply": "2023-01-05T09:35:25.201746Z",
     "shell.execute_reply.started": "2023-01-05T09:35:25.184915Z"
    },
    "id": "aagnmgDeJESB",
    "outputId": "cd92b415-ebb4-4438-913e-a8d9b137b598"
   },
   "outputs": [],
   "source": [
    "df"
   ]
  },
  {
   "cell_type": "code",
   "execution_count": null,
   "metadata": {
    "colab": {
     "base_uri": "https://localhost:8080/",
     "height": 424
    },
    "id": "wMx8BBr6Ke5G",
    "outputId": "bce73f87-72a2-4e31-f8f3-8bac4dfae466"
   },
   "outputs": [],
   "source": [
    "df_dev"
   ]
  },
  {
   "cell_type": "code",
   "execution_count": null,
   "metadata": {
    "execution": {
     "iopub.execute_input": "2023-01-05T09:35:25.205613Z",
     "iopub.status.busy": "2023-01-05T09:35:25.204791Z",
     "iopub.status.idle": "2023-01-05T09:35:26.289250Z",
     "shell.execute_reply": "2023-01-05T09:35:26.287936Z",
     "shell.execute_reply.started": "2023-01-05T09:35:25.205579Z"
    },
    "id": "9wvzRlcEJESB"
   },
   "outputs": [],
   "source": [
    "import torch\n",
    "from tqdm.notebook import tqdm\n",
    "\n",
    "from transformers import CamembertTokenizer, CamembertForSequenceClassification\n",
    "from torch.utils.data import TensorDataset\n",
    "from transformers import BertTokenizer,FlaubertTokenizer\n",
    "\n",
    "from transformers import BertForSequenceClassification,FlaubertForSequenceClassification"
   ]
  },
  {
   "cell_type": "code",
   "execution_count": null,
   "metadata": {
    "colab": {
     "base_uri": "https://localhost:8080/",
     "height": 81,
     "referenced_widgets": [
      "c07345044d4f407e81e68365923a98ca",
      "c745af2c63f943c2af70b4c02cec49f2",
      "574af359d0884d60bad3949a83b13ef4",
      "233b43ad756d48e585bb413fdbae7bdf",
      "1a1c1dfb91094a66938dbcfbee1f6ad7",
      "5856de221fcc448dbbe23d8a1be41c2e",
      "848c36ab8ba64cf7ab2ef30696fcfb6d",
      "1b418ee50297404ca3f7d2dfd2356d46",
      "2a1a5716e85e41ff8b4be7d0d3b22cf3",
      "00509cc3fa2e4abab9e1ac475ab55109",
      "4799628c5f4f4b99a8e1b368f4b9f609",
      "3005ce0ce53e416bb51c680fc5be2be7",
      "ef51ad9fec0547e99e46789f042d100b",
      "885c536f4f344984bb6ba4fac7719122",
      "85f87550eb78410bb24712721bd46ba2",
      "cf16a2694a1c41c88d42c9049887f5bf",
      "c18e519397d54ceca0f57aede220fbfe",
      "298ced76f68c449fa743fadd2f9ae10a",
      "9c9942fd6a3445e0b5edc44179980631",
      "9638b2f520c94a5dad411fb08e9d9a5e",
      "a8cc32740e7c4d8da7dd91317708c88e",
      "23fb208e55a847f2ab15ceb93482ac99"
     ]
    },
    "execution": {
     "iopub.execute_input": "2023-01-05T09:35:26.291452Z",
     "iopub.status.busy": "2023-01-05T09:35:26.291037Z",
     "iopub.status.idle": "2023-01-05T09:35:38.441536Z",
     "shell.execute_reply": "2023-01-05T09:35:38.440585Z",
     "shell.execute_reply.started": "2023-01-05T09:35:26.291421Z"
    },
    "id": "76YNrR5BJESC",
    "outputId": "95c4115b-7a98-41b5-9d8e-78fdd5d7040f"
   },
   "outputs": [],
   "source": [
    "tokenizer = CamembertTokenizer.from_pretrained('camembert-base',do_lower_case=True)"
   ]
  },
  {
   "cell_type": "code",
   "execution_count": null,
   "metadata": {
    "colab": {
     "base_uri": "https://localhost:8080/"
    },
    "execution": {
     "iopub.execute_input": "2023-01-05T09:35:38.443346Z",
     "iopub.status.busy": "2023-01-05T09:35:38.442998Z",
     "iopub.status.idle": "2023-01-05T09:37:11.907778Z",
     "shell.execute_reply": "2023-01-05T09:37:11.906754Z",
     "shell.execute_reply.started": "2023-01-05T09:35:38.443313Z"
    },
    "id": "tN17AbK_JESC",
    "outputId": "c8caf1b5-f16f-4f6b-af1f-4896328bf7f5"
   },
   "outputs": [],
   "source": [
    "encoded_data_train = tokenizer.batch_encode_plus(\n",
    "    df.commentaire.values, \n",
    "    add_special_tokens=True, \n",
    "    return_attention_mask=True, \n",
    "    pad_to_max_length=True, \n",
    "    max_length=360, \n",
    "    return_tensors='pt'\n",
    ")\n",
    "\n",
    "encoded_data_val = tokenizer.batch_encode_plus(\n",
    "    df_dev.commentaire.values, \n",
    "    add_special_tokens=True, \n",
    "    return_attention_mask=True, \n",
    "    pad_to_max_length=True, \n",
    "    max_length=360, \n",
    "    return_tensors='pt'\n",
    ")"
   ]
  },
  {
   "cell_type": "code",
   "execution_count": null,
   "metadata": {
    "execution": {
     "iopub.execute_input": "2023-01-05T09:37:11.909393Z",
     "iopub.status.busy": "2023-01-05T09:37:11.909033Z",
     "iopub.status.idle": "2023-01-05T09:37:11.941190Z",
     "shell.execute_reply": "2023-01-05T09:37:11.940310Z",
     "shell.execute_reply.started": "2023-01-05T09:37:11.909356Z"
    },
    "id": "SsjGGMHaJESD"
   },
   "outputs": [],
   "source": [
    "input_ids_train = encoded_data_train['input_ids']\n",
    "attention_masks_train = encoded_data_train['attention_mask']\n",
    "labels_train = torch.tensor(df.note.values)\n",
    "\n",
    "input_ids_val = encoded_data_val['input_ids']\n",
    "attention_masks_val = encoded_data_val['attention_mask']\n",
    "labels_val = torch.tensor(df_dev.note.values)"
   ]
  },
  {
   "cell_type": "code",
   "execution_count": null,
   "metadata": {
    "id": "AOfa7ITjTb9k"
   },
   "outputs": [],
   "source": [
    "encoded_data_test = tokenizer.batch_encode_plus(\n",
    "    df_test['commentaire'].values, \n",
    "    add_special_tokens=True, \n",
    "    return_attention_mask=True, \n",
    "    pad_to_max_length=True, \n",
    "    max_length=360, \n",
    "    return_tensors='pt'\n",
    ")"
   ]
  },
  {
   "cell_type": "code",
   "execution_count": null,
   "metadata": {
    "id": "-PfALJUQTfVg"
   },
   "outputs": [],
   "source": [
    "encoded_data_test = encoded_data_test.to(device)"
   ]
  },
  {
   "cell_type": "code",
   "execution_count": null,
   "metadata": {
    "id": "KAaDMkdKThYN"
   },
   "outputs": [],
   "source": [
    "input_ids_test = encoded_data_test['input_ids']\n",
    "attention_masks_test = encoded_data_test['attention_mask']"
   ]
  },
  {
   "cell_type": "code",
   "execution_count": null,
   "metadata": {
    "colab": {
     "base_uri": "https://localhost:8080/",
     "height": 156,
     "referenced_widgets": [
      "a84a77954e134bc787e1e735668a63a8",
      "126b581e15b948098b42e848de11f5d8",
      "092af3ffc03a4480a9702eb5051fdc6f",
      "498881ef5b1842e6b538e93420d45a1c",
      "75195bf661624bb7a99fbf2218a851ad",
      "02d9d0c68a5b457d861678538116cfc3",
      "b5504624958147c892343042b6b4bc26",
      "6df7d5122a084c6199536b6d0c35c7ca",
      "b999fb727aaa4fe99a281e6a2d5ee4dc",
      "d93d09218dd143a6bd894d18dd36557d",
      "6b09ed12841e40ad9b75eae7360ea870"
     ]
    },
    "execution": {
     "iopub.execute_input": "2023-01-05T09:37:11.942902Z",
     "iopub.status.busy": "2023-01-05T09:37:11.942443Z",
     "iopub.status.idle": "2023-01-05T09:38:03.674438Z",
     "shell.execute_reply": "2023-01-05T09:38:03.673476Z",
     "shell.execute_reply.started": "2023-01-05T09:37:11.942866Z"
    },
    "id": "9GUpitpXJESD",
    "outputId": "7dc378af-d9b6-475f-bafc-90be65603ec6"
   },
   "outputs": [],
   "source": [
    "model = CamembertForSequenceClassification.from_pretrained(\"camembert-base\",\n",
    "                                                      num_labels=len(df['note'].unique()),\n",
    "                                                      output_attentions=False,\n",
    "                                                      output_hidden_states=False)\n"
   ]
  },
  {
   "cell_type": "code",
   "execution_count": null,
   "metadata": {
    "execution": {
     "iopub.execute_input": "2023-01-05T09:38:03.676470Z",
     "iopub.status.busy": "2023-01-05T09:38:03.676089Z",
     "iopub.status.idle": "2023-01-05T09:38:03.681691Z",
     "shell.execute_reply": "2023-01-05T09:38:03.680352Z",
     "shell.execute_reply.started": "2023-01-05T09:38:03.676433Z"
    },
    "id": "7v_BmPMpJESD"
   },
   "outputs": [],
   "source": [
    "from torch.utils.data import DataLoader, RandomSampler, SequentialSampler"
   ]
  },
  {
   "cell_type": "code",
   "execution_count": null,
   "metadata": {
    "id": "fmtRXJaJN3lu"
   },
   "outputs": [],
   "source": [
    "dataset_train = TensorDataset(input_ids_train, attention_masks_train, labels_train)\n",
    "dataset_val = TensorDataset(input_ids_val, attention_masks_val, labels_val)"
   ]
  },
  {
   "cell_type": "code",
   "execution_count": null,
   "metadata": {
    "execution": {
     "iopub.execute_input": "2023-01-05T09:38:03.683658Z",
     "iopub.status.busy": "2023-01-05T09:38:03.683207Z",
     "iopub.status.idle": "2023-01-05T09:38:03.693345Z",
     "shell.execute_reply": "2023-01-05T09:38:03.692243Z",
     "shell.execute_reply.started": "2023-01-05T09:38:03.683621Z"
    },
    "id": "MYqLwrBDJESD"
   },
   "outputs": [],
   "source": [
    "batch_size = 32\n",
    "\n",
    "dataloader_train = DataLoader(dataset_train, \n",
    "                              sampler=RandomSampler(dataset_train), \n",
    "                              batch_size=batch_size)\n",
    "\n",
    "dataloader_validation = DataLoader(dataset_val, \n",
    "                                   sampler=SequentialSampler(dataset_val), \n",
    "                                   batch_size=batch_size)"
   ]
  },
  {
   "cell_type": "code",
   "execution_count": null,
   "metadata": {
    "colab": {
     "base_uri": "https://localhost:8080/"
    },
    "execution": {
     "iopub.execute_input": "2023-01-05T09:38:03.695373Z",
     "iopub.status.busy": "2023-01-05T09:38:03.694848Z",
     "iopub.status.idle": "2023-01-05T09:38:03.739718Z",
     "shell.execute_reply": "2023-01-05T09:38:03.738646Z",
     "shell.execute_reply.started": "2023-01-05T09:38:03.695339Z"
    },
    "id": "gC5qX_riJESE",
    "outputId": "ee3e17e2-8426-49b3-cab5-de80fb6c8366"
   },
   "outputs": [],
   "source": [
    "from transformers import AdamW, get_linear_schedule_with_warmup\n",
    "\n",
    "optimizer = AdamW(model.parameters(),\n",
    "                  lr=1e-5, \n",
    "                  eps=1e-8)\n",
    "                  \n",
    "epochs = 4\n",
    "\n",
    "scheduler = get_linear_schedule_with_warmup(optimizer, \n",
    "                                            num_warmup_steps=0,\n",
    "                                            num_training_steps=len(dataloader_train)*epochs)"
   ]
  },
  {
   "cell_type": "code",
   "execution_count": null,
   "metadata": {
    "execution": {
     "iopub.execute_input": "2023-01-05T09:38:03.741689Z",
     "iopub.status.busy": "2023-01-05T09:38:03.740980Z",
     "iopub.status.idle": "2023-01-05T09:38:03.746783Z",
     "shell.execute_reply": "2023-01-05T09:38:03.745670Z",
     "shell.execute_reply.started": "2023-01-05T09:38:03.741656Z"
    },
    "id": "OE49MpAvJESE"
   },
   "outputs": [],
   "source": [
    "from sklearn.metrics import f1_score"
   ]
  },
  {
   "cell_type": "code",
   "execution_count": null,
   "metadata": {
    "execution": {
     "iopub.execute_input": "2023-01-05T09:38:03.748752Z",
     "iopub.status.busy": "2023-01-05T09:38:03.748195Z",
     "iopub.status.idle": "2023-01-05T09:38:03.757203Z",
     "shell.execute_reply": "2023-01-05T09:38:03.756151Z",
     "shell.execute_reply.started": "2023-01-05T09:38:03.748703Z"
    },
    "id": "D6df8Um1JESE"
   },
   "outputs": [],
   "source": [
    "def f1_score_func(preds, labels):\n",
    "    preds_flat = np.argmax(preds, axis=1).flatten()\n",
    "    labels_flat = labels.flatten()\n",
    "    return f1_score(labels_flat, preds_flat, average='weighted')\n",
    "\n",
    "def accuracy_per_class(preds, labels):\n",
    "    label_dict_inverse = {v: k for k, v in label_dict.items()}\n",
    "    \n",
    "    preds_flat = np.argmax(preds, axis=1).flatten()\n",
    "    labels_flat = labels.flatten()\n",
    "\n",
    "    for label in np.unique(labels_flat):\n",
    "        y_preds = preds_flat[labels_flat==label]\n",
    "        y_true = labels_flat[labels_flat==label]\n",
    "        print(f'Class: {label_dict_inverse[label]}')\n",
    "        print(f'Accuracy: {len(y_preds[y_preds==label])}/{len(y_true)}\\n')"
   ]
  },
  {
   "cell_type": "code",
   "execution_count": null,
   "metadata": {
    "execution": {
     "iopub.execute_input": "2023-01-05T09:38:03.758959Z",
     "iopub.status.busy": "2023-01-05T09:38:03.758607Z",
     "iopub.status.idle": "2023-01-05T09:38:08.740158Z",
     "shell.execute_reply": "2023-01-05T09:38:08.739160Z",
     "shell.execute_reply.started": "2023-01-05T09:38:03.758927Z"
    },
    "id": "zue9tBG_JESE"
   },
   "outputs": [],
   "source": [
    "model = model.to(device)"
   ]
  },
  {
   "cell_type": "code",
   "execution_count": null,
   "metadata": {
    "execution": {
     "iopub.execute_input": "2023-01-05T09:38:08.742119Z",
     "iopub.status.busy": "2023-01-05T09:38:08.741722Z",
     "iopub.status.idle": "2023-01-05T10:02:10.764266Z",
     "shell.execute_reply": "2023-01-05T10:02:10.762397Z",
     "shell.execute_reply.started": "2023-01-05T09:38:08.742080Z"
    },
    "id": "LDeVEtWhJESF"
   },
   "outputs": [],
   "source": [
    "import random\n",
    "\n",
    "seed_val = 17\n",
    "random.seed(seed_val)\n",
    "np.random.seed(seed_val)\n",
    "torch.manual_seed(seed_val)\n",
    "torch.cuda.manual_seed_all(seed_val)\n",
    "\n",
    "def evaluate(dataloader_val):\n",
    "\n",
    "    model.eval()\n",
    "    \n",
    "    loss_val_total = 0\n",
    "    predictions, true_vals = [], []\n",
    "    \n",
    "    for batch in dataloader_val:\n",
    "        \n",
    "        batch = tuple(b.to(device) for b in batch)\n",
    "        \n",
    "        inputs = {'input_ids':      batch[0],\n",
    "                  'attention_mask': batch[1],\n",
    "                  'labels':         batch[2],\n",
    "                 }\n",
    "\n",
    "        with torch.no_grad():        \n",
    "            outputs = model(**inputs)\n",
    "            \n",
    "        loss = outputs[0]\n",
    "        logits = outputs[1]\n",
    "        loss_val_total += loss.item()\n",
    "\n",
    "        logits = logits.detach().cpu().numpy()\n",
    "        label_ids = inputs['labels'].cpu().numpy()\n",
    "        predictions.append(logits)\n",
    "        true_vals.append(label_ids)\n",
    "    \n",
    "    loss_val_avg = loss_val_total/len(dataloader_val) \n",
    "    \n",
    "    predictions = np.concatenate(predictions, axis=0)\n",
    "    true_vals = np.concatenate(true_vals, axis=0)\n",
    "            \n",
    "    return loss_val_avg, predictions, true_vals\n",
    "    \n",
    "for epoch in tqdm(range(1, epochs+1)):\n",
    "    \n",
    "    model.train()\n",
    "    \n",
    "    loss_train_total = 0\n",
    "\n",
    "    progress_bar = tqdm(dataloader_train, desc='Epoch {:1d}'.format(epoch), leave=False, disable=False)\n",
    "    for batch in progress_bar:\n",
    "\n",
    "        model.zero_grad()\n",
    "        \n",
    "        batch = tuple(b.to(device) for b in batch)\n",
    "        \n",
    "        inputs = {'input_ids':      batch[0],\n",
    "                  'attention_mask': batch[1],\n",
    "                  'labels':         batch[2],\n",
    "                 }       \n",
    "\n",
    "        outputs = model(**inputs)\n",
    "        \n",
    "        loss = outputs[0]\n",
    "        loss_train_total += loss.item()\n",
    "        loss.backward()\n",
    "\n",
    "        torch.nn.utils.clip_grad_norm_(model.parameters(), 1.0)\n",
    "\n",
    "        optimizer.step()\n",
    "        scheduler.step()\n",
    "        \n",
    "        progress_bar.set_postfix({'training_loss': '{:.3f}'.format(loss.item()/len(batch))})\n",
    "         \n",
    "        \n",
    "    torch.save(model.state_dict(), f'/content/drive/MyDrive/Application_Innovation_2/complete_preprocessing/finetuned_BERT_with_223_STP_FRSC_epoch_{epoch}.model')\n",
    "        \n",
    "    tqdm.write(f'\\nEpoch {epoch}')\n",
    "    \n",
    "    loss_train_avg = loss_train_total/len(dataloader_train)            \n",
    "    tqdm.write(f'Training loss: {loss_train_avg}')\n",
    "    \n",
    "    val_loss, predictions, true_vals = evaluate(dataloader_validation)\n",
    "    val_f1 = f1_score_func(predictions, true_vals)\n",
    "    tqdm.write(f'Validation loss: {val_loss}')\n",
    "    tqdm.write(f'F1 Score (Weighted): {val_f1}')"
   ]
  },
  {
   "cell_type": "code",
   "execution_count": null,
   "metadata": {
    "id": "CtOg2wszTtO6"
   },
   "outputs": [],
   "source": [
    "results = []\n",
    "for i in range(len(df_test)):\n",
    "  encoded_values = tokenizer.encode_plus(df_test['commentaire'].iloc[i],padding='max_length')#).unsqueeze(0)\n",
    "  input_ids = encoded_values['input_ids']\n",
    "  attention_masks = encoded_values['attention_mask']\n",
    "  input_ids = pad_sequences([input_ids], maxlen=360, padding='post', truncating='post', value=0)[0]\n",
    "  attention_masks = pad_sequences([attention_masks], maxlen=360, padding='post', truncating='post', value=0)[0]\n",
    "  input_ids = torch.tensor(input_ids).unsqueeze(0)\n",
    "  attention_masks = torch.tensor(attention_masks).unsqueeze(0)\n",
    "  attention_masks = attention_masks.to(device)\n",
    "  input_ids = input_ids.to(device)\n",
    "  output = model(input_ids,attention_mask=attention_masks)\n",
    "  logits = output.logits\n",
    "  label = logits.argmax().item()\n",
    "  result = str((label+1)/2).replace('.',',')\n",
    "  review_id = df_test['review_id'].iloc[i]\n",
    "  results.append([review_id,result])"
   ]
  }
 ],
 "metadata": {
  "accelerator": "GPU",
  "colab": {
   "provenance": []
  },
  "gpuClass": "standard",
  "kernelspec": {
   "display_name": "Python 3 (ipykernel)",
   "language": "python",
   "name": "python3"
  },
  "language_info": {
   "codemirror_mode": {
    "name": "ipython",
    "version": 3
   },
   "file_extension": ".py",
   "mimetype": "text/x-python",
   "name": "python",
   "nbconvert_exporter": "python",
   "pygments_lexer": "ipython3",
   "version": "3.9.12"
  },
  "widgets": {
   "application/vnd.jupyter.widget-state+json": {
    "00509cc3fa2e4abab9e1ac475ab55109": {
     "model_module": "@jupyter-widgets/base",
     "model_module_version": "1.2.0",
     "model_name": "LayoutModel",
     "state": {
      "_model_module": "@jupyter-widgets/base",
      "_model_module_version": "1.2.0",
      "_model_name": "LayoutModel",
      "_view_count": null,
      "_view_module": "@jupyter-widgets/base",
      "_view_module_version": "1.2.0",
      "_view_name": "LayoutView",
      "align_content": null,
      "align_items": null,
      "align_self": null,
      "border": null,
      "bottom": null,
      "display": null,
      "flex": null,
      "flex_flow": null,
      "grid_area": null,
      "grid_auto_columns": null,
      "grid_auto_flow": null,
      "grid_auto_rows": null,
      "grid_column": null,
      "grid_gap": null,
      "grid_row": null,
      "grid_template_areas": null,
      "grid_template_columns": null,
      "grid_template_rows": null,
      "height": null,
      "justify_content": null,
      "justify_items": null,
      "left": null,
      "margin": null,
      "max_height": null,
      "max_width": null,
      "min_height": null,
      "min_width": null,
      "object_fit": null,
      "object_position": null,
      "order": null,
      "overflow": null,
      "overflow_x": null,
      "overflow_y": null,
      "padding": null,
      "right": null,
      "top": null,
      "visibility": null,
      "width": null
     }
    },
    "02d9d0c68a5b457d861678538116cfc3": {
     "model_module": "@jupyter-widgets/base",
     "model_module_version": "1.2.0",
     "model_name": "LayoutModel",
     "state": {
      "_model_module": "@jupyter-widgets/base",
      "_model_module_version": "1.2.0",
      "_model_name": "LayoutModel",
      "_view_count": null,
      "_view_module": "@jupyter-widgets/base",
      "_view_module_version": "1.2.0",
      "_view_name": "LayoutView",
      "align_content": null,
      "align_items": null,
      "align_self": null,
      "border": null,
      "bottom": null,
      "display": null,
      "flex": null,
      "flex_flow": null,
      "grid_area": null,
      "grid_auto_columns": null,
      "grid_auto_flow": null,
      "grid_auto_rows": null,
      "grid_column": null,
      "grid_gap": null,
      "grid_row": null,
      "grid_template_areas": null,
      "grid_template_columns": null,
      "grid_template_rows": null,
      "height": null,
      "justify_content": null,
      "justify_items": null,
      "left": null,
      "margin": null,
      "max_height": null,
      "max_width": null,
      "min_height": null,
      "min_width": null,
      "object_fit": null,
      "object_position": null,
      "order": null,
      "overflow": null,
      "overflow_x": null,
      "overflow_y": null,
      "padding": null,
      "right": null,
      "top": null,
      "visibility": null,
      "width": null
     }
    },
    "092af3ffc03a4480a9702eb5051fdc6f": {
     "model_module": "@jupyter-widgets/controls",
     "model_module_version": "1.5.0",
     "model_name": "FloatProgressModel",
     "state": {
      "_dom_classes": [],
      "_model_module": "@jupyter-widgets/controls",
      "_model_module_version": "1.5.0",
      "_model_name": "FloatProgressModel",
      "_view_count": null,
      "_view_module": "@jupyter-widgets/controls",
      "_view_module_version": "1.5.0",
      "_view_name": "ProgressView",
      "bar_style": "success",
      "description": "",
      "description_tooltip": null,
      "layout": "IPY_MODEL_6df7d5122a084c6199536b6d0c35c7ca",
      "max": 445032417,
      "min": 0,
      "orientation": "horizontal",
      "style": "IPY_MODEL_b999fb727aaa4fe99a281e6a2d5ee4dc",
      "value": 445032417
     }
    },
    "126b581e15b948098b42e848de11f5d8": {
     "model_module": "@jupyter-widgets/controls",
     "model_module_version": "1.5.0",
     "model_name": "HTMLModel",
     "state": {
      "_dom_classes": [],
      "_model_module": "@jupyter-widgets/controls",
      "_model_module_version": "1.5.0",
      "_model_name": "HTMLModel",
      "_view_count": null,
      "_view_module": "@jupyter-widgets/controls",
      "_view_module_version": "1.5.0",
      "_view_name": "HTMLView",
      "description": "",
      "description_tooltip": null,
      "layout": "IPY_MODEL_02d9d0c68a5b457d861678538116cfc3",
      "placeholder": "​",
      "style": "IPY_MODEL_b5504624958147c892343042b6b4bc26",
      "value": "Downloading: 100%"
     }
    },
    "1a1c1dfb91094a66938dbcfbee1f6ad7": {
     "model_module": "@jupyter-widgets/base",
     "model_module_version": "1.2.0",
     "model_name": "LayoutModel",
     "state": {
      "_model_module": "@jupyter-widgets/base",
      "_model_module_version": "1.2.0",
      "_model_name": "LayoutModel",
      "_view_count": null,
      "_view_module": "@jupyter-widgets/base",
      "_view_module_version": "1.2.0",
      "_view_name": "LayoutView",
      "align_content": null,
      "align_items": null,
      "align_self": null,
      "border": null,
      "bottom": null,
      "display": null,
      "flex": null,
      "flex_flow": null,
      "grid_area": null,
      "grid_auto_columns": null,
      "grid_auto_flow": null,
      "grid_auto_rows": null,
      "grid_column": null,
      "grid_gap": null,
      "grid_row": null,
      "grid_template_areas": null,
      "grid_template_columns": null,
      "grid_template_rows": null,
      "height": null,
      "justify_content": null,
      "justify_items": null,
      "left": null,
      "margin": null,
      "max_height": null,
      "max_width": null,
      "min_height": null,
      "min_width": null,
      "object_fit": null,
      "object_position": null,
      "order": null,
      "overflow": null,
      "overflow_x": null,
      "overflow_y": null,
      "padding": null,
      "right": null,
      "top": null,
      "visibility": null,
      "width": null
     }
    },
    "1b418ee50297404ca3f7d2dfd2356d46": {
     "model_module": "@jupyter-widgets/base",
     "model_module_version": "1.2.0",
     "model_name": "LayoutModel",
     "state": {
      "_model_module": "@jupyter-widgets/base",
      "_model_module_version": "1.2.0",
      "_model_name": "LayoutModel",
      "_view_count": null,
      "_view_module": "@jupyter-widgets/base",
      "_view_module_version": "1.2.0",
      "_view_name": "LayoutView",
      "align_content": null,
      "align_items": null,
      "align_self": null,
      "border": null,
      "bottom": null,
      "display": null,
      "flex": null,
      "flex_flow": null,
      "grid_area": null,
      "grid_auto_columns": null,
      "grid_auto_flow": null,
      "grid_auto_rows": null,
      "grid_column": null,
      "grid_gap": null,
      "grid_row": null,
      "grid_template_areas": null,
      "grid_template_columns": null,
      "grid_template_rows": null,
      "height": null,
      "justify_content": null,
      "justify_items": null,
      "left": null,
      "margin": null,
      "max_height": null,
      "max_width": null,
      "min_height": null,
      "min_width": null,
      "object_fit": null,
      "object_position": null,
      "order": null,
      "overflow": null,
      "overflow_x": null,
      "overflow_y": null,
      "padding": null,
      "right": null,
      "top": null,
      "visibility": null,
      "width": null
     }
    },
    "233b43ad756d48e585bb413fdbae7bdf": {
     "model_module": "@jupyter-widgets/controls",
     "model_module_version": "1.5.0",
     "model_name": "HTMLModel",
     "state": {
      "_dom_classes": [],
      "_model_module": "@jupyter-widgets/controls",
      "_model_module_version": "1.5.0",
      "_model_name": "HTMLModel",
      "_view_count": null,
      "_view_module": "@jupyter-widgets/controls",
      "_view_module_version": "1.5.0",
      "_view_name": "HTMLView",
      "description": "",
      "description_tooltip": null,
      "layout": "IPY_MODEL_00509cc3fa2e4abab9e1ac475ab55109",
      "placeholder": "​",
      "style": "IPY_MODEL_4799628c5f4f4b99a8e1b368f4b9f609",
      "value": " 811k/811k [00:01&lt;00:00, 521kB/s]"
     }
    },
    "23fb208e55a847f2ab15ceb93482ac99": {
     "model_module": "@jupyter-widgets/controls",
     "model_module_version": "1.5.0",
     "model_name": "DescriptionStyleModel",
     "state": {
      "_model_module": "@jupyter-widgets/controls",
      "_model_module_version": "1.5.0",
      "_model_name": "DescriptionStyleModel",
      "_view_count": null,
      "_view_module": "@jupyter-widgets/base",
      "_view_module_version": "1.2.0",
      "_view_name": "StyleView",
      "description_width": ""
     }
    },
    "298ced76f68c449fa743fadd2f9ae10a": {
     "model_module": "@jupyter-widgets/controls",
     "model_module_version": "1.5.0",
     "model_name": "DescriptionStyleModel",
     "state": {
      "_model_module": "@jupyter-widgets/controls",
      "_model_module_version": "1.5.0",
      "_model_name": "DescriptionStyleModel",
      "_view_count": null,
      "_view_module": "@jupyter-widgets/base",
      "_view_module_version": "1.2.0",
      "_view_name": "StyleView",
      "description_width": ""
     }
    },
    "2a1a5716e85e41ff8b4be7d0d3b22cf3": {
     "model_module": "@jupyter-widgets/controls",
     "model_module_version": "1.5.0",
     "model_name": "ProgressStyleModel",
     "state": {
      "_model_module": "@jupyter-widgets/controls",
      "_model_module_version": "1.5.0",
      "_model_name": "ProgressStyleModel",
      "_view_count": null,
      "_view_module": "@jupyter-widgets/base",
      "_view_module_version": "1.2.0",
      "_view_name": "StyleView",
      "bar_color": null,
      "description_width": ""
     }
    },
    "3005ce0ce53e416bb51c680fc5be2be7": {
     "model_module": "@jupyter-widgets/controls",
     "model_module_version": "1.5.0",
     "model_name": "HBoxModel",
     "state": {
      "_dom_classes": [],
      "_model_module": "@jupyter-widgets/controls",
      "_model_module_version": "1.5.0",
      "_model_name": "HBoxModel",
      "_view_count": null,
      "_view_module": "@jupyter-widgets/controls",
      "_view_module_version": "1.5.0",
      "_view_name": "HBoxView",
      "box_style": "",
      "children": [
       "IPY_MODEL_ef51ad9fec0547e99e46789f042d100b",
       "IPY_MODEL_885c536f4f344984bb6ba4fac7719122",
       "IPY_MODEL_85f87550eb78410bb24712721bd46ba2"
      ],
      "layout": "IPY_MODEL_cf16a2694a1c41c88d42c9049887f5bf"
     }
    },
    "4799628c5f4f4b99a8e1b368f4b9f609": {
     "model_module": "@jupyter-widgets/controls",
     "model_module_version": "1.5.0",
     "model_name": "DescriptionStyleModel",
     "state": {
      "_model_module": "@jupyter-widgets/controls",
      "_model_module_version": "1.5.0",
      "_model_name": "DescriptionStyleModel",
      "_view_count": null,
      "_view_module": "@jupyter-widgets/base",
      "_view_module_version": "1.2.0",
      "_view_name": "StyleView",
      "description_width": ""
     }
    },
    "498881ef5b1842e6b538e93420d45a1c": {
     "model_module": "@jupyter-widgets/controls",
     "model_module_version": "1.5.0",
     "model_name": "HTMLModel",
     "state": {
      "_dom_classes": [],
      "_model_module": "@jupyter-widgets/controls",
      "_model_module_version": "1.5.0",
      "_model_name": "HTMLModel",
      "_view_count": null,
      "_view_module": "@jupyter-widgets/controls",
      "_view_module_version": "1.5.0",
      "_view_name": "HTMLView",
      "description": "",
      "description_tooltip": null,
      "layout": "IPY_MODEL_d93d09218dd143a6bd894d18dd36557d",
      "placeholder": "​",
      "style": "IPY_MODEL_6b09ed12841e40ad9b75eae7360ea870",
      "value": " 445M/445M [00:09&lt;00:00, 71.4MB/s]"
     }
    },
    "574af359d0884d60bad3949a83b13ef4": {
     "model_module": "@jupyter-widgets/controls",
     "model_module_version": "1.5.0",
     "model_name": "FloatProgressModel",
     "state": {
      "_dom_classes": [],
      "_model_module": "@jupyter-widgets/controls",
      "_model_module_version": "1.5.0",
      "_model_name": "FloatProgressModel",
      "_view_count": null,
      "_view_module": "@jupyter-widgets/controls",
      "_view_module_version": "1.5.0",
      "_view_name": "ProgressView",
      "bar_style": "success",
      "description": "",
      "description_tooltip": null,
      "layout": "IPY_MODEL_1b418ee50297404ca3f7d2dfd2356d46",
      "max": 810912,
      "min": 0,
      "orientation": "horizontal",
      "style": "IPY_MODEL_2a1a5716e85e41ff8b4be7d0d3b22cf3",
      "value": 810912
     }
    },
    "5856de221fcc448dbbe23d8a1be41c2e": {
     "model_module": "@jupyter-widgets/base",
     "model_module_version": "1.2.0",
     "model_name": "LayoutModel",
     "state": {
      "_model_module": "@jupyter-widgets/base",
      "_model_module_version": "1.2.0",
      "_model_name": "LayoutModel",
      "_view_count": null,
      "_view_module": "@jupyter-widgets/base",
      "_view_module_version": "1.2.0",
      "_view_name": "LayoutView",
      "align_content": null,
      "align_items": null,
      "align_self": null,
      "border": null,
      "bottom": null,
      "display": null,
      "flex": null,
      "flex_flow": null,
      "grid_area": null,
      "grid_auto_columns": null,
      "grid_auto_flow": null,
      "grid_auto_rows": null,
      "grid_column": null,
      "grid_gap": null,
      "grid_row": null,
      "grid_template_areas": null,
      "grid_template_columns": null,
      "grid_template_rows": null,
      "height": null,
      "justify_content": null,
      "justify_items": null,
      "left": null,
      "margin": null,
      "max_height": null,
      "max_width": null,
      "min_height": null,
      "min_width": null,
      "object_fit": null,
      "object_position": null,
      "order": null,
      "overflow": null,
      "overflow_x": null,
      "overflow_y": null,
      "padding": null,
      "right": null,
      "top": null,
      "visibility": null,
      "width": null
     }
    },
    "6b09ed12841e40ad9b75eae7360ea870": {
     "model_module": "@jupyter-widgets/controls",
     "model_module_version": "1.5.0",
     "model_name": "DescriptionStyleModel",
     "state": {
      "_model_module": "@jupyter-widgets/controls",
      "_model_module_version": "1.5.0",
      "_model_name": "DescriptionStyleModel",
      "_view_count": null,
      "_view_module": "@jupyter-widgets/base",
      "_view_module_version": "1.2.0",
      "_view_name": "StyleView",
      "description_width": ""
     }
    },
    "6df7d5122a084c6199536b6d0c35c7ca": {
     "model_module": "@jupyter-widgets/base",
     "model_module_version": "1.2.0",
     "model_name": "LayoutModel",
     "state": {
      "_model_module": "@jupyter-widgets/base",
      "_model_module_version": "1.2.0",
      "_model_name": "LayoutModel",
      "_view_count": null,
      "_view_module": "@jupyter-widgets/base",
      "_view_module_version": "1.2.0",
      "_view_name": "LayoutView",
      "align_content": null,
      "align_items": null,
      "align_self": null,
      "border": null,
      "bottom": null,
      "display": null,
      "flex": null,
      "flex_flow": null,
      "grid_area": null,
      "grid_auto_columns": null,
      "grid_auto_flow": null,
      "grid_auto_rows": null,
      "grid_column": null,
      "grid_gap": null,
      "grid_row": null,
      "grid_template_areas": null,
      "grid_template_columns": null,
      "grid_template_rows": null,
      "height": null,
      "justify_content": null,
      "justify_items": null,
      "left": null,
      "margin": null,
      "max_height": null,
      "max_width": null,
      "min_height": null,
      "min_width": null,
      "object_fit": null,
      "object_position": null,
      "order": null,
      "overflow": null,
      "overflow_x": null,
      "overflow_y": null,
      "padding": null,
      "right": null,
      "top": null,
      "visibility": null,
      "width": null
     }
    },
    "75195bf661624bb7a99fbf2218a851ad": {
     "model_module": "@jupyter-widgets/base",
     "model_module_version": "1.2.0",
     "model_name": "LayoutModel",
     "state": {
      "_model_module": "@jupyter-widgets/base",
      "_model_module_version": "1.2.0",
      "_model_name": "LayoutModel",
      "_view_count": null,
      "_view_module": "@jupyter-widgets/base",
      "_view_module_version": "1.2.0",
      "_view_name": "LayoutView",
      "align_content": null,
      "align_items": null,
      "align_self": null,
      "border": null,
      "bottom": null,
      "display": null,
      "flex": null,
      "flex_flow": null,
      "grid_area": null,
      "grid_auto_columns": null,
      "grid_auto_flow": null,
      "grid_auto_rows": null,
      "grid_column": null,
      "grid_gap": null,
      "grid_row": null,
      "grid_template_areas": null,
      "grid_template_columns": null,
      "grid_template_rows": null,
      "height": null,
      "justify_content": null,
      "justify_items": null,
      "left": null,
      "margin": null,
      "max_height": null,
      "max_width": null,
      "min_height": null,
      "min_width": null,
      "object_fit": null,
      "object_position": null,
      "order": null,
      "overflow": null,
      "overflow_x": null,
      "overflow_y": null,
      "padding": null,
      "right": null,
      "top": null,
      "visibility": null,
      "width": null
     }
    },
    "848c36ab8ba64cf7ab2ef30696fcfb6d": {
     "model_module": "@jupyter-widgets/controls",
     "model_module_version": "1.5.0",
     "model_name": "DescriptionStyleModel",
     "state": {
      "_model_module": "@jupyter-widgets/controls",
      "_model_module_version": "1.5.0",
      "_model_name": "DescriptionStyleModel",
      "_view_count": null,
      "_view_module": "@jupyter-widgets/base",
      "_view_module_version": "1.2.0",
      "_view_name": "StyleView",
      "description_width": ""
     }
    },
    "85f87550eb78410bb24712721bd46ba2": {
     "model_module": "@jupyter-widgets/controls",
     "model_module_version": "1.5.0",
     "model_name": "HTMLModel",
     "state": {
      "_dom_classes": [],
      "_model_module": "@jupyter-widgets/controls",
      "_model_module_version": "1.5.0",
      "_model_name": "HTMLModel",
      "_view_count": null,
      "_view_module": "@jupyter-widgets/controls",
      "_view_module_version": "1.5.0",
      "_view_name": "HTMLView",
      "description": "",
      "description_tooltip": null,
      "layout": "IPY_MODEL_a8cc32740e7c4d8da7dd91317708c88e",
      "placeholder": "​",
      "style": "IPY_MODEL_23fb208e55a847f2ab15ceb93482ac99",
      "value": " 508/508 [00:00&lt;00:00, 6.86kB/s]"
     }
    },
    "885c536f4f344984bb6ba4fac7719122": {
     "model_module": "@jupyter-widgets/controls",
     "model_module_version": "1.5.0",
     "model_name": "FloatProgressModel",
     "state": {
      "_dom_classes": [],
      "_model_module": "@jupyter-widgets/controls",
      "_model_module_version": "1.5.0",
      "_model_name": "FloatProgressModel",
      "_view_count": null,
      "_view_module": "@jupyter-widgets/controls",
      "_view_module_version": "1.5.0",
      "_view_name": "ProgressView",
      "bar_style": "success",
      "description": "",
      "description_tooltip": null,
      "layout": "IPY_MODEL_9c9942fd6a3445e0b5edc44179980631",
      "max": 508,
      "min": 0,
      "orientation": "horizontal",
      "style": "IPY_MODEL_9638b2f520c94a5dad411fb08e9d9a5e",
      "value": 508
     }
    },
    "9638b2f520c94a5dad411fb08e9d9a5e": {
     "model_module": "@jupyter-widgets/controls",
     "model_module_version": "1.5.0",
     "model_name": "ProgressStyleModel",
     "state": {
      "_model_module": "@jupyter-widgets/controls",
      "_model_module_version": "1.5.0",
      "_model_name": "ProgressStyleModel",
      "_view_count": null,
      "_view_module": "@jupyter-widgets/base",
      "_view_module_version": "1.2.0",
      "_view_name": "StyleView",
      "bar_color": null,
      "description_width": ""
     }
    },
    "9c9942fd6a3445e0b5edc44179980631": {
     "model_module": "@jupyter-widgets/base",
     "model_module_version": "1.2.0",
     "model_name": "LayoutModel",
     "state": {
      "_model_module": "@jupyter-widgets/base",
      "_model_module_version": "1.2.0",
      "_model_name": "LayoutModel",
      "_view_count": null,
      "_view_module": "@jupyter-widgets/base",
      "_view_module_version": "1.2.0",
      "_view_name": "LayoutView",
      "align_content": null,
      "align_items": null,
      "align_self": null,
      "border": null,
      "bottom": null,
      "display": null,
      "flex": null,
      "flex_flow": null,
      "grid_area": null,
      "grid_auto_columns": null,
      "grid_auto_flow": null,
      "grid_auto_rows": null,
      "grid_column": null,
      "grid_gap": null,
      "grid_row": null,
      "grid_template_areas": null,
      "grid_template_columns": null,
      "grid_template_rows": null,
      "height": null,
      "justify_content": null,
      "justify_items": null,
      "left": null,
      "margin": null,
      "max_height": null,
      "max_width": null,
      "min_height": null,
      "min_width": null,
      "object_fit": null,
      "object_position": null,
      "order": null,
      "overflow": null,
      "overflow_x": null,
      "overflow_y": null,
      "padding": null,
      "right": null,
      "top": null,
      "visibility": null,
      "width": null
     }
    },
    "a84a77954e134bc787e1e735668a63a8": {
     "model_module": "@jupyter-widgets/controls",
     "model_module_version": "1.5.0",
     "model_name": "HBoxModel",
     "state": {
      "_dom_classes": [],
      "_model_module": "@jupyter-widgets/controls",
      "_model_module_version": "1.5.0",
      "_model_name": "HBoxModel",
      "_view_count": null,
      "_view_module": "@jupyter-widgets/controls",
      "_view_module_version": "1.5.0",
      "_view_name": "HBoxView",
      "box_style": "",
      "children": [
       "IPY_MODEL_126b581e15b948098b42e848de11f5d8",
       "IPY_MODEL_092af3ffc03a4480a9702eb5051fdc6f",
       "IPY_MODEL_498881ef5b1842e6b538e93420d45a1c"
      ],
      "layout": "IPY_MODEL_75195bf661624bb7a99fbf2218a851ad"
     }
    },
    "a8cc32740e7c4d8da7dd91317708c88e": {
     "model_module": "@jupyter-widgets/base",
     "model_module_version": "1.2.0",
     "model_name": "LayoutModel",
     "state": {
      "_model_module": "@jupyter-widgets/base",
      "_model_module_version": "1.2.0",
      "_model_name": "LayoutModel",
      "_view_count": null,
      "_view_module": "@jupyter-widgets/base",
      "_view_module_version": "1.2.0",
      "_view_name": "LayoutView",
      "align_content": null,
      "align_items": null,
      "align_self": null,
      "border": null,
      "bottom": null,
      "display": null,
      "flex": null,
      "flex_flow": null,
      "grid_area": null,
      "grid_auto_columns": null,
      "grid_auto_flow": null,
      "grid_auto_rows": null,
      "grid_column": null,
      "grid_gap": null,
      "grid_row": null,
      "grid_template_areas": null,
      "grid_template_columns": null,
      "grid_template_rows": null,
      "height": null,
      "justify_content": null,
      "justify_items": null,
      "left": null,
      "margin": null,
      "max_height": null,
      "max_width": null,
      "min_height": null,
      "min_width": null,
      "object_fit": null,
      "object_position": null,
      "order": null,
      "overflow": null,
      "overflow_x": null,
      "overflow_y": null,
      "padding": null,
      "right": null,
      "top": null,
      "visibility": null,
      "width": null
     }
    },
    "b5504624958147c892343042b6b4bc26": {
     "model_module": "@jupyter-widgets/controls",
     "model_module_version": "1.5.0",
     "model_name": "DescriptionStyleModel",
     "state": {
      "_model_module": "@jupyter-widgets/controls",
      "_model_module_version": "1.5.0",
      "_model_name": "DescriptionStyleModel",
      "_view_count": null,
      "_view_module": "@jupyter-widgets/base",
      "_view_module_version": "1.2.0",
      "_view_name": "StyleView",
      "description_width": ""
     }
    },
    "b999fb727aaa4fe99a281e6a2d5ee4dc": {
     "model_module": "@jupyter-widgets/controls",
     "model_module_version": "1.5.0",
     "model_name": "ProgressStyleModel",
     "state": {
      "_model_module": "@jupyter-widgets/controls",
      "_model_module_version": "1.5.0",
      "_model_name": "ProgressStyleModel",
      "_view_count": null,
      "_view_module": "@jupyter-widgets/base",
      "_view_module_version": "1.2.0",
      "_view_name": "StyleView",
      "bar_color": null,
      "description_width": ""
     }
    },
    "c07345044d4f407e81e68365923a98ca": {
     "model_module": "@jupyter-widgets/controls",
     "model_module_version": "1.5.0",
     "model_name": "HBoxModel",
     "state": {
      "_dom_classes": [],
      "_model_module": "@jupyter-widgets/controls",
      "_model_module_version": "1.5.0",
      "_model_name": "HBoxModel",
      "_view_count": null,
      "_view_module": "@jupyter-widgets/controls",
      "_view_module_version": "1.5.0",
      "_view_name": "HBoxView",
      "box_style": "",
      "children": [
       "IPY_MODEL_c745af2c63f943c2af70b4c02cec49f2",
       "IPY_MODEL_574af359d0884d60bad3949a83b13ef4",
       "IPY_MODEL_233b43ad756d48e585bb413fdbae7bdf"
      ],
      "layout": "IPY_MODEL_1a1c1dfb91094a66938dbcfbee1f6ad7"
     }
    },
    "c18e519397d54ceca0f57aede220fbfe": {
     "model_module": "@jupyter-widgets/base",
     "model_module_version": "1.2.0",
     "model_name": "LayoutModel",
     "state": {
      "_model_module": "@jupyter-widgets/base",
      "_model_module_version": "1.2.0",
      "_model_name": "LayoutModel",
      "_view_count": null,
      "_view_module": "@jupyter-widgets/base",
      "_view_module_version": "1.2.0",
      "_view_name": "LayoutView",
      "align_content": null,
      "align_items": null,
      "align_self": null,
      "border": null,
      "bottom": null,
      "display": null,
      "flex": null,
      "flex_flow": null,
      "grid_area": null,
      "grid_auto_columns": null,
      "grid_auto_flow": null,
      "grid_auto_rows": null,
      "grid_column": null,
      "grid_gap": null,
      "grid_row": null,
      "grid_template_areas": null,
      "grid_template_columns": null,
      "grid_template_rows": null,
      "height": null,
      "justify_content": null,
      "justify_items": null,
      "left": null,
      "margin": null,
      "max_height": null,
      "max_width": null,
      "min_height": null,
      "min_width": null,
      "object_fit": null,
      "object_position": null,
      "order": null,
      "overflow": null,
      "overflow_x": null,
      "overflow_y": null,
      "padding": null,
      "right": null,
      "top": null,
      "visibility": null,
      "width": null
     }
    },
    "c745af2c63f943c2af70b4c02cec49f2": {
     "model_module": "@jupyter-widgets/controls",
     "model_module_version": "1.5.0",
     "model_name": "HTMLModel",
     "state": {
      "_dom_classes": [],
      "_model_module": "@jupyter-widgets/controls",
      "_model_module_version": "1.5.0",
      "_model_name": "HTMLModel",
      "_view_count": null,
      "_view_module": "@jupyter-widgets/controls",
      "_view_module_version": "1.5.0",
      "_view_name": "HTMLView",
      "description": "",
      "description_tooltip": null,
      "layout": "IPY_MODEL_5856de221fcc448dbbe23d8a1be41c2e",
      "placeholder": "​",
      "style": "IPY_MODEL_848c36ab8ba64cf7ab2ef30696fcfb6d",
      "value": "Downloading: 100%"
     }
    },
    "cf16a2694a1c41c88d42c9049887f5bf": {
     "model_module": "@jupyter-widgets/base",
     "model_module_version": "1.2.0",
     "model_name": "LayoutModel",
     "state": {
      "_model_module": "@jupyter-widgets/base",
      "_model_module_version": "1.2.0",
      "_model_name": "LayoutModel",
      "_view_count": null,
      "_view_module": "@jupyter-widgets/base",
      "_view_module_version": "1.2.0",
      "_view_name": "LayoutView",
      "align_content": null,
      "align_items": null,
      "align_self": null,
      "border": null,
      "bottom": null,
      "display": null,
      "flex": null,
      "flex_flow": null,
      "grid_area": null,
      "grid_auto_columns": null,
      "grid_auto_flow": null,
      "grid_auto_rows": null,
      "grid_column": null,
      "grid_gap": null,
      "grid_row": null,
      "grid_template_areas": null,
      "grid_template_columns": null,
      "grid_template_rows": null,
      "height": null,
      "justify_content": null,
      "justify_items": null,
      "left": null,
      "margin": null,
      "max_height": null,
      "max_width": null,
      "min_height": null,
      "min_width": null,
      "object_fit": null,
      "object_position": null,
      "order": null,
      "overflow": null,
      "overflow_x": null,
      "overflow_y": null,
      "padding": null,
      "right": null,
      "top": null,
      "visibility": null,
      "width": null
     }
    },
    "d93d09218dd143a6bd894d18dd36557d": {
     "model_module": "@jupyter-widgets/base",
     "model_module_version": "1.2.0",
     "model_name": "LayoutModel",
     "state": {
      "_model_module": "@jupyter-widgets/base",
      "_model_module_version": "1.2.0",
      "_model_name": "LayoutModel",
      "_view_count": null,
      "_view_module": "@jupyter-widgets/base",
      "_view_module_version": "1.2.0",
      "_view_name": "LayoutView",
      "align_content": null,
      "align_items": null,
      "align_self": null,
      "border": null,
      "bottom": null,
      "display": null,
      "flex": null,
      "flex_flow": null,
      "grid_area": null,
      "grid_auto_columns": null,
      "grid_auto_flow": null,
      "grid_auto_rows": null,
      "grid_column": null,
      "grid_gap": null,
      "grid_row": null,
      "grid_template_areas": null,
      "grid_template_columns": null,
      "grid_template_rows": null,
      "height": null,
      "justify_content": null,
      "justify_items": null,
      "left": null,
      "margin": null,
      "max_height": null,
      "max_width": null,
      "min_height": null,
      "min_width": null,
      "object_fit": null,
      "object_position": null,
      "order": null,
      "overflow": null,
      "overflow_x": null,
      "overflow_y": null,
      "padding": null,
      "right": null,
      "top": null,
      "visibility": null,
      "width": null
     }
    },
    "ef51ad9fec0547e99e46789f042d100b": {
     "model_module": "@jupyter-widgets/controls",
     "model_module_version": "1.5.0",
     "model_name": "HTMLModel",
     "state": {
      "_dom_classes": [],
      "_model_module": "@jupyter-widgets/controls",
      "_model_module_version": "1.5.0",
      "_model_name": "HTMLModel",
      "_view_count": null,
      "_view_module": "@jupyter-widgets/controls",
      "_view_module_version": "1.5.0",
      "_view_name": "HTMLView",
      "description": "",
      "description_tooltip": null,
      "layout": "IPY_MODEL_c18e519397d54ceca0f57aede220fbfe",
      "placeholder": "​",
      "style": "IPY_MODEL_298ced76f68c449fa743fadd2f9ae10a",
      "value": "Downloading: 100%"
     }
    }
   }
  }
 },
 "nbformat": 4,
 "nbformat_minor": 1
}
