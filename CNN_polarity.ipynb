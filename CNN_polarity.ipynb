{
 "cells": [
  {
   "cell_type": "code",
   "execution_count": null,
   "metadata": {
    "id": "wObdGcJrxOHw"
   },
   "outputs": [],
   "source": [
    "import pandas as pd"
   ]
  },
  {
   "cell_type": "code",
   "execution_count": null,
   "metadata": {
    "colab": {
     "base_uri": "https://localhost:8080/"
    },
    "id": "jgSSNJ60yv4v",
    "outputId": "a5748e1e-c519-40d9-c448-699b1653958a"
   },
   "outputs": [],
   "source": [
    "import tensorflow as tf\n",
    "num_gpus_available = len(tf.config.experimental.list_physical_devices('GPU'))\n",
    "print(\"Num GPUs Available: \", num_gpus_available)\n",
    "import torch\n",
    "device = 'cuda' if torch.cuda.is_available() else 'cpu'\n",
    "import pandas as pd\n",
    "import numpy as np"
   ]
  },
  {
   "cell_type": "code",
   "execution_count": null,
   "metadata": {
    "id": "V9xA9ZJMuHEV"
   },
   "outputs": [],
   "source": [
    "df_test = pd.read_csv(\"test_complete_preprocessing_stp_frsc.csv\",encoding = \"utf-8\",sep = ',')"
   ]
  },
  {
   "cell_type": "code",
   "execution_count": null,
   "metadata": {
    "id": "UrAdHLbfy1WA"
   },
   "outputs": [],
   "source": [
    "df = pd.read_csv(\"complete_preprocessing_stp_frsc.csv\",encoding = \"utf-8\",sep = ',')"
   ]
  },
  {
   "cell_type": "code",
   "execution_count": null,
   "metadata": {
    "id": "Z5tMK1e8voPJ"
   },
   "outputs": [],
   "source": [
    "# C'est le df de train qui contient la colonne polarité (score calculé dans le fichier lexique_sentimentale_stats.ipynb\n",
    "df_polarity = pd.read_csv(\"train_complete_preprocessing_with_polarity.csv\",encoding = \"utf-8\",sep = ',')"
   ]
  },
  {
   "cell_type": "code",
   "execution_count": null,
   "metadata": {
    "id": "LInkTieSYN00"
   },
   "outputs": [],
   "source": [
    "df_dev = pd.read_csv(\"dev_complete_preprocessing_stp_frsc.csv\",encoding = \"utf-8\",sep = ',')"
   ]
  },
  {
   "cell_type": "code",
   "execution_count": null,
   "metadata": {
    "id": "8NXARTy-vxJQ"
   },
   "outputs": [],
   "source": [
    "df_dev_polarity = pd.read_csv(\"dev_complete_preprocessing_with_polarity.csv\",encoding = \"utf-8\",sep = ',')"
   ]
  },
  {
   "cell_type": "code",
   "execution_count": null,
   "metadata": {
    "id": "8deROclbwcnk"
   },
   "outputs": [],
   "source": [
    "df_test_polarity = pd.read_csv(\"test_complete_preprocessing_with_polarity.csv\",encoding = \"utf-8\",sep = ',')"
   ]
  },
  {
   "cell_type": "code",
   "execution_count": null,
   "metadata": {
    "id": "3e8OB-any6A_"
   },
   "outputs": [],
   "source": [
    "df['note'] = df['note'].astype('int')\n",
    "df_dev['note'] = df_dev['note'].astype('int')"
   ]
  },
  {
   "cell_type": "code",
   "execution_count": null,
   "metadata": {
    "id": "thI0s-lBv7ha"
   },
   "outputs": [],
   "source": [
    "df_polarity['note'] = df_polarity['note'].astype('int')\n",
    "df_dev_polarity['note'] = df_dev_polarity['note'].astype('int')"
   ]
  },
  {
   "cell_type": "code",
   "execution_count": null,
   "metadata": {
    "colab": {
     "base_uri": "https://localhost:8080/",
     "height": 424
    },
    "id": "itUek-6m2oJc",
    "outputId": "db0538df-366b-425b-a5c3-cb0766dbbdd4"
   },
   "outputs": [],
   "source": [
    "df"
   ]
  },
  {
   "cell_type": "code",
   "execution_count": null,
   "metadata": {
    "colab": {
     "base_uri": "https://localhost:8080/",
     "height": 424
    },
    "id": "h-XIvpGmYbPP",
    "outputId": "387f421a-6677-49de-e66b-eb2b5a29a1c2"
   },
   "outputs": [],
   "source": [
    "df_test"
   ]
  },
  {
   "cell_type": "code",
   "execution_count": null,
   "metadata": {
    "id": "1hL7E-3junw0"
   },
   "outputs": [],
   "source": [
    "df_test = df_test.reset_index()\n",
    "df_test.drop(columns=['index'],inplace=True)"
   ]
  },
  {
   "cell_type": "code",
   "execution_count": null,
   "metadata": {
    "id": "blU3t6uK5xc7"
   },
   "outputs": [],
   "source": [
    "df_test = df_test.sort_values(by='review_id')"
   ]
  },
  {
   "cell_type": "code",
   "execution_count": null,
   "metadata": {
    "id": "CcfV1savw4ka"
   },
   "outputs": [],
   "source": [
    "df_test_polarity = df_test_polarity.sort_values(by='review_id')\n",
    "df_test_polarity = df_test_polarity.reset_index()\n",
    "df_test_polarity.drop(columns=['index'],inplace=True)"
   ]
  },
  {
   "cell_type": "code",
   "execution_count": null,
   "metadata": {
    "id": "7hHhplca7tLV"
   },
   "outputs": [],
   "source": [
    "df = df.reset_index()\n",
    "df_dev = df_dev.reset_index()"
   ]
  },
  {
   "cell_type": "code",
   "execution_count": null,
   "metadata": {
    "id": "TKXlUP2HwHWz"
   },
   "outputs": [],
   "source": [
    "df_polarity = df_polarity.reset_index()\n",
    "df_dev_polarity = df_dev_polarity.reset_index()"
   ]
  },
  {
   "cell_type": "code",
   "execution_count": null,
   "metadata": {
    "id": "iudCgAqv7x8F"
   },
   "outputs": [],
   "source": [
    "df.drop(columns=['index'],inplace=True)\n",
    "df_dev.drop(columns=['index'],inplace=True)"
   ]
  },
  {
   "cell_type": "code",
   "execution_count": null,
   "metadata": {
    "id": "oS905sIOwMp7"
   },
   "outputs": [],
   "source": [
    "df_polarity.drop(columns=['index'],inplace=True)\n",
    "df_dev_polarity.drop(columns=['index'],inplace=True)"
   ]
  },
  {
   "cell_type": "code",
   "execution_count": null,
   "metadata": {
    "id": "I9lFb6hR9rCX"
   },
   "outputs": [],
   "source": [
    "from keras.preprocessing.text import text_to_word_sequence\n",
    "def maxNumWords360(text):\n",
    "    l=text_to_word_sequence(str(text))\n",
    "    if len(l) >= 360:\n",
    "        l = l[:360]\n",
    "    return \" \".join(l)\n",
    "\n",
    "maxWordsNum = 0\n",
    "def maxNumWords(text):\n",
    "    global maxWordsNum\n",
    "    l = text_to_word_sequence(str(text))\n",
    "    if len(l) > maxWordsNum:\n",
    "        maxWordsNum = len(l)"
   ]
  },
  {
   "cell_type": "code",
   "execution_count": null,
   "metadata": {
    "colab": {
     "base_uri": "https://localhost:8080/"
    },
    "id": "OIi9oRT8uxVO",
    "outputId": "52f9c9da-93ac-41fc-aabd-f957db67d31b"
   },
   "outputs": [],
   "source": [
    "df_test.commentaire.apply(maxNumWords)\n",
    "print(\"Max num of words per sentence in the training set is: \",maxWordsNum)\n",
    "maxWordsNum = 0\n",
    "df_test.commentaire=df_test.commentaire.apply(maxNumWords360)\n",
    "df_test.commentaire.apply(maxNumWords)\n",
    "print(\"Max num of words per sentence in the training set is: \",maxWordsNum)\n",
    "maxWordsNum = 0"
   ]
  },
  {
   "cell_type": "code",
   "execution_count": null,
   "metadata": {
    "colab": {
     "base_uri": "https://localhost:8080/"
    },
    "id": "YdKxIwCB9tls",
    "outputId": "09057d05-9b61-465b-a90e-0bd1e248c328"
   },
   "outputs": [],
   "source": [
    "df.commentaire.apply(maxNumWords)\n",
    "print(\"Max num of words per sentence in the training set is: \",maxWordsNum)\n",
    "maxWordsNum = 0\n",
    "df_dev.commentaire.apply(maxNumWords)\n",
    "print(\"Max num of words per sentence in the dev set is: \",maxWordsNum)\n",
    "maxWordsNum = 0\n",
    "\n",
    "df.commentaire=df.commentaire.apply(maxNumWords360)\n",
    "df_dev.commentaire=df_dev.commentaire.apply(maxNumWords360)\n",
    "\n",
    "df.commentaire.apply(maxNumWords)\n",
    "print(\"Max num of words per sentence in the training set is: \",maxWordsNum)\n",
    "maxWordsNum = 0\n",
    "df_dev.commentaire.apply(maxNumWords)\n",
    "print(\"Max num of words per sentence in the dev set is: \",maxWordsNum)\n",
    "maxWordsNum = 0"
   ]
  },
  {
   "cell_type": "code",
   "execution_count": null,
   "metadata": {
    "id": "eAwqjtsm5L-Y"
   },
   "outputs": [],
   "source": [
    "import os\n",
    "import re\n",
    "import nltk\n",
    "import pandas as pd\n",
    "import numpy as np\n",
    "import seaborn as sns\n",
    "import matplotlib.pyplot as plt\n",
    "from nltk.tokenize import word_tokenize\n",
    "from nltk import pos_tag\n",
    "from nltk.corpus import stopwords, wordnet\n",
    "from nltk.stem import WordNetLemmatizer\n",
    "from sklearn.datasets import fetch_20newsgroups\n",
    "from tensorflow.keras import layers\n",
    "from tensorflow.keras.models import Sequential\n",
    "from tensorflow.keras.preprocessing.text import Tokenizer\n",
    "from tensorflow.keras.preprocessing.sequence import pad_sequences\n",
    "from gensim.test.utils import common_texts\n",
    "from gensim.models import Word2Vec\n",
    "from keras.layers import Dropout,BatchNormalization\n",
    "from keras import regularizers\n",
    "import gensim\n",
    "from gensim.models import FastText\n",
    "from sklearn.metrics import accuracy_score"
   ]
  },
  {
   "cell_type": "code",
   "execution_count": null,
   "metadata": {
    "id": "KUHHfyWea9zo"
   },
   "outputs": [],
   "source": [
    "X_train = df.commentaire.values\n",
    "y_train = df.note.values\n",
    "X_val = df_dev.commentaire.values\n",
    "y_val = df_dev.note.values"
   ]
  },
  {
   "cell_type": "code",
   "execution_count": null,
   "metadata": {
    "id": "1VJbNj4WvAwo"
   },
   "outputs": [],
   "source": [
    "X_test = df_test.commentaire.values"
   ]
  },
  {
   "cell_type": "code",
   "execution_count": null,
   "metadata": {
    "id": "78yGKRNX9Rk-"
   },
   "outputs": [],
   "source": [
    "tokenizer = Tokenizer(num_words=100000)\n",
    "tokenizer.fit_on_texts(X_train)"
   ]
  },
  {
   "cell_type": "code",
   "execution_count": null,
   "metadata": {
    "colab": {
     "base_uri": "https://localhost:8080/"
    },
    "id": "W3oOBMUM_I_C",
    "outputId": "e4aa281d-a1e3-42cc-a0f7-19cd5fefc529"
   },
   "outputs": [],
   "source": [
    "vocab_size = len(tokenizer.index_word) + 1\n",
    "print('Vocab Size:', vocab_size)"
   ]
  },
  {
   "cell_type": "code",
   "execution_count": null,
   "metadata": {
    "id": "yzBxYwku-0mi"
   },
   "outputs": [],
   "source": [
    "X_train_token = tokenizer.texts_to_sequences(X_train)\n",
    "X_val_token = tokenizer.texts_to_sequences(X_val)"
   ]
  },
  {
   "cell_type": "code",
   "execution_count": null,
   "metadata": {
    "id": "UZUPaJ1SvjPx"
   },
   "outputs": [],
   "source": [
    "X_test_token = tokenizer.texts_to_sequences(X_test)"
   ]
  },
  {
   "cell_type": "code",
   "execution_count": null,
   "metadata": {
    "colab": {
     "base_uri": "https://localhost:8080/"
    },
    "id": "_PYoUfXw-3Ev",
    "outputId": "f4321a7c-115d-401e-c4b2-b6c03c2509b3"
   },
   "outputs": [],
   "source": [
    "sequence_len = 360\n",
    "X_train_token = pad_sequences(X_train_token, padding='post', maxlen=sequence_len)\n",
    "X_val_token = pad_sequences(X_val_token, padding='post', maxlen=sequence_len)"
   ]
  },
  {
   "cell_type": "code",
   "execution_count": null,
   "metadata": {
    "id": "KoAAIZ6cvpob"
   },
   "outputs": [],
   "source": [
    "X_test_token = pad_sequences(X_test_token, padding='post', maxlen=sequence_len)"
   ]
  },
  {
   "cell_type": "code",
   "execution_count": null,
   "metadata": {
    "id": "wiQwSwrlxDQH"
   },
   "outputs": [],
   "source": [
    "results = []\n",
    "\n",
    "# Lecture des résultats de classification de la méthode naïve\n",
    "with open('polarity_data/train_lexicon_res.txt', 'r') as filehandle:\n",
    "    filecontents = filehandle.readlines()\n",
    "    for line in filecontents:\n",
    "        curr_results = line[:-1]\n",
    "        results.append(curr_results)"
   ]
  },
  {
   "cell_type": "code",
   "execution_count": null,
   "metadata": {
    "id": "DxRm0yWvxH3l"
   },
   "outputs": [],
   "source": [
    "train_preds = places"
   ]
  },
  {
   "cell_type": "code",
   "execution_count": null,
   "metadata": {
    "id": "jun_yJed0h-M"
   },
   "outputs": [],
   "source": [
    "results = []\n",
    "\n",
    "# Lecture des résultats de classification de la méthode naïve\n",
    "with open('polarity_data/dev_lexicon_res.txt', 'r') as filehandle:\n",
    "    filecontents = filehandle.readlines()\n",
    "    for line in filecontents:\n",
    "        curr_results = line[:-1]\n",
    "        results.append(curr_results)"
   ]
  },
  {
   "cell_type": "code",
   "execution_count": null,
   "metadata": {
    "id": "vhpJWsaIxPT2"
   },
   "outputs": [],
   "source": [
    "dev_preds = places"
   ]
  },
  {
   "cell_type": "code",
   "execution_count": null,
   "metadata": {},
   "outputs": [],
   "source": [
    "results = []\n",
    "\n",
    "# Lecture des résultats de classification de la méthode naïve\n",
    "with open('polarity_data/test_lexicon_res.txt', 'r') as filehandle:\n",
    "    filecontents = filehandle.readlines()\n",
    "    for line in filecontents:\n",
    "        curr_results = line[:-1]\n",
    "        results.append(curr_results)"
   ]
  },
  {
   "cell_type": "code",
   "execution_count": null,
   "metadata": {
    "id": "tdr0YM25xpiu"
   },
   "outputs": [],
   "source": [
    "test_preds = places"
   ]
  },
  {
   "cell_type": "code",
   "execution_count": null,
   "metadata": {
    "id": "EEO-HH_CUfSU"
   },
   "outputs": [],
   "source": [
    "# padding d'un vecteur de taille 11 au début contenant la polarité et le classement par la méthode naïve\n",
    "X_train_token_polarity = X_train_token\n",
    "for i in range(len(X_train_token)):\n",
    "  xdc = X_train_token[i][0:349]\n",
    "  cdx = [float(train_preds[i]),0,0,0,0,0,0,0,0,0,0]\n",
    "  cdx[int(train_preds[i])+1] = 10\n",
    "  xdc = np.append(cdx,xdc)\n",
    "  X_train_token_polarity[i] = xdc"
   ]
  },
  {
   "cell_type": "code",
   "execution_count": null,
   "metadata": {
    "id": "txy1O8oDyXYl"
   },
   "outputs": [],
   "source": [
    "X_val_token_polarity = X_val_token\n",
    "for i in range(len(X_val_token)):\n",
    "  xdc = X_val_token[i][0:349]\n",
    "  cdx = [float(dev_preds[i]),0,0,0,0,0,0,0,0,0,0]\n",
    "  cdx[int(dev_preds[i])+1] = 10\n",
    "  xdc = np.append(cdx,xdc)\n",
    "  X_val_token_polarity[i] = xdc"
   ]
  },
  {
   "cell_type": "code",
   "execution_count": null,
   "metadata": {
    "id": "jBN4pbJNxtjQ"
   },
   "outputs": [],
   "source": [
    "X_test_token_polarity = X_test_token\n",
    "for i in range(len(X_test_token)):\n",
    "  xdc = X_test_token[i][0:349]\n",
    "  cdx = [float(test_preds[i]),0,0,0,0,0,0,0,0,0,0]\n",
    "  cdx[int(test_preds[i])+1] = 10\n",
    "  xdc = np.append(cdx,xdc)\n",
    "  X_test_token_polarity[i] = xdc"
   ]
  },
  {
   "cell_type": "code",
   "execution_count": null,
   "metadata": {
    "colab": {
     "base_uri": "https://localhost:8080/"
    },
    "id": "ohmUbRlp_BCm",
    "outputId": "34ac627b-7bee-4f12-ea94-9daf0cbbc87a"
   },
   "outputs": [],
   "source": [
    "embedding_dim = 100\n",
    "droprate=0.25\n",
    "model = Sequential()\n",
    "model.add(layers.Embedding(input_dim=vocab_size, output_dim=embedding_dim, input_length=sequence_len))\n",
    "model.add(layers.Conv1D(filters=128, kernel_size=5, activation='relu',kernel_regularizer=regularizers.l2(l=0.01)))\n",
    "model.add(BatchNormalization())\n",
    "model.add(layers.GlobalMaxPool1D())\n",
    "model.add(Dropout(droprate))\n",
    "model.add(layers.Dense(64, activation='relu'))\n",
    "model.add(BatchNormalization())\n",
    "model.add(Dropout(droprate))\n",
    "model.add(layers.Dense(10, activation='softmax'))\n",
    "model.compile(optimizer='adam', loss='sparse_categorical_crossentropy', metrics=['accuracy'])\n",
    "model.summary()"
   ]
  },
  {
   "cell_type": "code",
   "execution_count": null,
   "metadata": {
    "colab": {
     "base_uri": "https://localhost:8080/"
    },
    "id": "lcPVLlZo_dsc",
    "outputId": "dfdde5e3-6ff6-47de-f66c-787655c20d19"
   },
   "outputs": [],
   "source": [
    "history = model.fit(X_train_token_polarity, y_train, epochs=5, validation_data=(X_val_token_polarity, y_val), batch_size=128)"
   ]
  },
  {
   "cell_type": "code",
   "execution_count": null,
   "metadata": {
    "colab": {
     "base_uri": "https://localhost:8080/"
    },
    "id": "JiC-6yGIyAQa",
    "outputId": "6cf486dd-b3f1-4706-ea48-605aa3888182"
   },
   "outputs": [],
   "source": [
    "results = model.predict(X_test_token_polarity)"
   ]
  },
  {
   "cell_type": "code",
   "execution_count": null,
   "metadata": {
    "colab": {
     "base_uri": "https://localhost:8080/"
    },
    "id": "HXX-tGxmyl68",
    "outputId": "563ff173-5a57-4a45-dcda-b015f2ff29c4"
   },
   "outputs": [],
   "source": [
    "results"
   ]
  },
  {
   "cell_type": "code",
   "execution_count": null,
   "metadata": {
    "id": "qZC6cjkq0qBV"
   },
   "outputs": [],
   "source": [
    "def get_predicted_class(predictions):\n",
    "  predicted_class_indices = np.argmax(predictions, axis=1)\n",
    "  classes = ['0,5', '1,0', '1,5', '2,0', '2,5', '3,0', '3,5', '4,0', '4,5', '5,0']\n",
    "  predicted_classes = [classes[index] for index in predicted_class_indices]\n",
    "  return predicted_classes\n",
    "predicted_classes = get_predicted_class(results)"
   ]
  },
  {
   "cell_type": "code",
   "execution_count": null,
   "metadata": {
    "colab": {
     "base_uri": "https://localhost:8080/"
    },
    "id": "8kWnUNOf02jB",
    "outputId": "63b95c8b-ff5a-4636-af10-51dd85fa3a20"
   },
   "outputs": [],
   "source": [
    "predicted_classes"
   ]
  },
  {
   "cell_type": "code",
   "execution_count": null,
   "metadata": {
    "id": "Xe1TJukr1kIt"
   },
   "outputs": [],
   "source": [
    "with open(\"results_CNN_keras_tokenizer_with_STP_FRSC_polarity.txt\", \"w\") as f:\n",
    "  for i in range(len(df_test)):\n",
    "    f.write(str(df_test['review_id'].iloc[i])+' '+predicted_classes[i]+'\\n')"
   ]
  }
 ],
 "metadata": {
  "accelerator": "GPU",
  "colab": {
   "provenance": []
  },
  "gpuClass": "standard",
  "kernelspec": {
   "display_name": "Python 3 (ipykernel)",
   "language": "python",
   "name": "python3"
  },
  "language_info": {
   "codemirror_mode": {
    "name": "ipython",
    "version": 3
   },
   "file_extension": ".py",
   "mimetype": "text/x-python",
   "name": "python",
   "nbconvert_exporter": "python",
   "pygments_lexer": "ipython3",
   "version": "3.9.12"
  },
  "vscode": {
   "interpreter": {
    "hash": "3952873d6828618c4ff8e99b4fb9fd309a5943aa50d2792ef4f368e7008308b1"
   }
  }
 },
 "nbformat": 4,
 "nbformat_minor": 1
}
