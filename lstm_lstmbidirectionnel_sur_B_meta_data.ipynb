{
 "cells": [
  {
   "cell_type": "code",
   "execution_count": null,
   "id": "2811d367",
   "metadata": {},
   "outputs": [],
   "source": [
    "import tensorflow as tf"
   ]
  },
  {
   "cell_type": "code",
   "execution_count": null,
   "id": "e9b80ef1",
   "metadata": {},
   "outputs": [],
   "source": [
    "import pandas as pd\n",
    "import numpy as np\n",
    "import nltk\n",
    "import seaborn as sns\n",
    "import time\n",
    "import re\n",
    "tokenizer = nltk.RegexpTokenizer(r'''\\w'|\\w+|[^\\w\\s]''')\n",
    "from tqdm import tqdm\n",
    "from tensorflow.keras.utils import to_categorical\n",
    "import random\n",
    "from tensorflow.keras.preprocessing.text import Tokenizer\n",
    "from tensorflow.keras.layers import Dense,Dropout,Embedding,LSTM\n",
    "from tensorflow.keras.callbacks import EarlyStopping\n",
    "from tensorflow.keras.losses import categorical_crossentropy\n",
    "from tensorflow.keras.optimizers import Adam\n",
    "from tensorflow.keras.models import Sequential\n",
    "random.seed(123)\n",
    "from tensorflow.keras.preprocessing.text import Tokenizer\n",
    "from tensorflow.keras.preprocessing.sequence import pad_sequences"
   ]
  },
  {
   "cell_type": "code",
   "execution_count": null,
   "id": "7a762087",
   "metadata": {},
   "outputs": [],
   "source": [
    "nltk.download('punkt')\n",
    "nltk.download('stopwords')\n",
    "nltk.download('wordnet')\n",
    "nltk.download('omw-1.4')"
   ]
  },
  {
   "cell_type": "code",
   "execution_count": null,
   "id": "850d6c15",
   "metadata": {},
   "outputs": [],
   "source": [
    "df_train = pd.read_csv(\"A.csv\")\n",
    "df_dev = pd.read_csv(\"A.csv\")\n",
    "df_test = pd.read_csv(\"A.csv\")"
   ]
  },
  {
   "cell_type": "code",
   "execution_count": null,
   "id": "8d9c0a66",
   "metadata": {},
   "outputs": [],
   "source": [
    "# meta data integration"
   ]
  },
  {
   "cell_type": "code",
   "execution_count": null,
   "id": "45692733",
   "metadata": {},
   "outputs": [],
   "source": [
    "from sklearn import preprocessing\n",
    "le = preprocessing.LabelEncoder()"
   ]
  },
  {
   "cell_type": "code",
   "execution_count": null,
   "id": "2213c97a",
   "metadata": {},
   "outputs": [],
   "source": [
    "ids = df_train['user_id'].values.tolist() + df_dev['user_id'].values.tolist() + df_test['user_id'].values.tolist()"
   ]
  },
  {
   "cell_type": "code",
   "execution_count": null,
   "id": "4918260d",
   "metadata": {},
   "outputs": [],
   "source": [
    "len(ids)"
   ]
  },
  {
   "cell_type": "code",
   "execution_count": null,
   "id": "919b8570",
   "metadata": {},
   "outputs": [],
   "source": [
    "le.fit(ids)"
   ]
  },
  {
   "cell_type": "code",
   "execution_count": null,
   "id": "e864eef9",
   "metadata": {},
   "outputs": [],
   "source": [
    "from textblob import Blobber"
   ]
  },
  {
   "cell_type": "code",
   "execution_count": null,
   "id": "dde76286",
   "metadata": {},
   "outputs": [],
   "source": [
    "from textblob_fr import PatternTagger, PatternAnalyzer"
   ]
  },
  {
   "cell_type": "code",
   "execution_count": null,
   "id": "6d8dda01",
   "metadata": {},
   "outputs": [],
   "source": [
    "tb = Blobber(pos_tagger=PatternTagger(), analyzer=PatternAnalyzer())"
   ]
  },
  {
   "cell_type": "code",
   "execution_count": null,
   "id": "f89070cc",
   "metadata": {},
   "outputs": [],
   "source": [
    "polarities = []\n",
    "for i in range(len(df_train)):\n",
    "    blob = tb(df_train['commentaire'][i])\n",
    "    polarities.append(blob.sentiment[0])\n",
    "    \n",
    "df_train['polarity'] = polarities\n",
    "df_train['u_Id']= le.transform(df_train['user_id'].values.tolist())"
   ]
  },
  {
   "cell_type": "code",
   "execution_count": null,
   "id": "cb05f9b1",
   "metadata": {},
   "outputs": [],
   "source": [
    "polarities_dev = []\n",
    "for i in range(len(df_dev)):\n",
    "    blob = tb(df_dev['commentaire'][i])\n",
    "    polarities_dev.append(blob.sentiment[0])\n",
    "\n",
    "df_dev['polarity'] = polarities_dev\n",
    "df_dev['u_Id']= le.transform(df_dev['user_id'].values.tolist())"
   ]
  },
  {
   "cell_type": "code",
   "execution_count": null,
   "id": "0ad1e55a",
   "metadata": {},
   "outputs": [],
   "source": [
    "polarities_test = []\n",
    "for i in range(len(df_test)):\n",
    "    blob = tb(df_test['commentaire'][i])\n",
    "    polarities_test.append(blob.sentiment[0])\n",
    "\n",
    "df_test['polarity'] = polarities_test\n",
    "df_test['u_Id']= le.transform(df_test['user_id'].values.tolist())"
   ]
  },
  {
   "cell_type": "code",
   "execution_count": null,
   "id": "748561e3",
   "metadata": {},
   "outputs": [],
   "source": [
    "X_train = df_train['commentaire']"
   ]
  },
  {
   "cell_type": "code",
   "execution_count": null,
   "id": "fe81c7a8",
   "metadata": {},
   "outputs": [],
   "source": [
    "X_dev = df_dev['commentaire']\n",
    "X_test  = df_test['commentaire']"
   ]
  },
  {
   "cell_type": "code",
   "execution_count": null,
   "id": "cfb1256f",
   "metadata": {},
   "outputs": [],
   "source": [
    "y_train = df_train['note']\n",
    "y_dev = df_dev['note']"
   ]
  },
  {
   "cell_type": "code",
   "execution_count": null,
   "id": "97698ed2",
   "metadata": {},
   "outputs": [],
   "source": [
    "tokenizer = Tokenizer(num_words=len(list(X_train.unique())))"
   ]
  },
  {
   "cell_type": "code",
   "execution_count": null,
   "id": "518eb4a4",
   "metadata": {},
   "outputs": [],
   "source": [
    "tokenizer.fit_on_texts(list(X_train))"
   ]
  },
  {
   "cell_type": "code",
   "execution_count": null,
   "id": "cdff55e8",
   "metadata": {},
   "outputs": [],
   "source": [
    "X_train = tokenizer.texts_to_sequences(X_train) \n",
    "X_dev = tokenizer.texts_to_sequences(X_dev)"
   ]
  },
  {
   "cell_type": "code",
   "execution_count": null,
   "id": "caf70210",
   "metadata": {},
   "outputs": [],
   "source": [
    "# l = [len(item) for item in X_train ]\n",
    "# sns.distplot(l, hist=True, kde=True, \n",
    "#              bins=int(50), color = 'darkblue', \n",
    "#              hist_kws={'edgecolor':'black'},\n",
    "#              kde_kws={'linewidth': 4})"
   ]
  },
  {
   "cell_type": "code",
   "execution_count": null,
   "id": "9612e17f",
   "metadata": {},
   "outputs": [],
   "source": [
    "# sns.histplot(x=l)"
   ]
  },
  {
   "cell_type": "code",
   "execution_count": null,
   "id": "64be9ed3",
   "metadata": {},
   "outputs": [],
   "source": [
    "len_max = 180"
   ]
  },
  {
   "cell_type": "code",
   "execution_count": null,
   "id": "e4c53bce",
   "metadata": {},
   "outputs": [],
   "source": [
    "X_train = pad_sequences(X_train, maxlen=len_max)\n",
    "X_dev = pad_sequences(X_dev, maxlen=len_max)"
   ]
  },
  {
   "cell_type": "code",
   "execution_count": null,
   "id": "ef458c48",
   "metadata": {},
   "outputs": [],
   "source": [
    "\n",
    "unique_words = set()\n",
    "\n",
    "\n",
    "for sent in tqdm(X_train):\n",
    "    \n",
    "    unique_words.update(sent)\n",
    "    \n",
    "#     if(len_max<len(sent)):\n",
    "#         len_max = len(sent)\n",
    "        \n",
    "print(len(list(unique_words)))\n",
    "print(len_max)"
   ]
  },
  {
   "cell_type": "code",
   "execution_count": null,
   "id": "5ccbd59d",
   "metadata": {},
   "outputs": [],
   "source": [
    "num_classes = len(y_train.unique())\n",
    "num_classes"
   ]
  },
  {
   "cell_type": "code",
   "execution_count": null,
   "id": "43470b78",
   "metadata": {},
   "outputs": [],
   "source": [
    "# X_train[9]"
   ]
  },
  {
   "cell_type": "code",
   "execution_count": null,
   "id": "c621c614",
   "metadata": {},
   "outputs": [],
   "source": [
    "x_train = X_train.tolist()\n",
    "for i in range(len(X_train)): \n",
    "    x_train[i].insert(0,df_train['movie'][i])\n",
    "    x_train[i].insert(0,df_train['u_Id'][i])\n",
    "    x_train[i].insert(0,df_train['polarity'][i])\n",
    "x_train = np.array(x_train)"
   ]
  },
  {
   "cell_type": "code",
   "execution_count": null,
   "id": "ef6d9e0e",
   "metadata": {},
   "outputs": [],
   "source": [
    "# x_train[0]"
   ]
  },
  {
   "cell_type": "code",
   "execution_count": null,
   "id": "7dfafc2b",
   "metadata": {},
   "outputs": [],
   "source": [
    "x_dev = X_dev.tolist()\n",
    "for i in range(len(X_dev)): \n",
    "    x_dev[i].insert(0,df_dev['movie'][i])\n",
    "    x_dev[i].insert(0,df_dev['u_Id'][i])\n",
    "    x_dev[i].insert(0,df_dev['polarity'][i])\n",
    "x_dev = np.array(x_dev)"
   ]
  },
  {
   "cell_type": "code",
   "execution_count": null,
   "id": "d0f71bdd",
   "metadata": {},
   "outputs": [],
   "source": [
    "num_classes = 10"
   ]
  },
  {
   "cell_type": "code",
   "execution_count": null,
   "id": "6ddb4269",
   "metadata": {},
   "outputs": [],
   "source": [
    "# LSTM_MetaData"
   ]
  },
  {
   "cell_type": "code",
   "execution_count": null,
   "id": "297448d0",
   "metadata": {},
   "outputs": [],
   "source": [
    "model_mdata=Sequential()\n",
    "model_mdata.add(Embedding(10000,150,input_length=183))\n",
    "model_mdata.add(LSTM(128,dropout=0.5, recurrent_dropout=0.5,return_sequences=True))\n",
    "model_mdata.add(LSTM(256,dropout=0.5, recurrent_dropout=0.5,return_sequences=True))\n",
    "model_mdata.add(LSTM(64,dropout=0.5, recurrent_dropout=0.5,return_sequences=True))\n",
    "model_mdata.add(LSTM(100,dropout=0.5, recurrent_dropout=0.5,return_sequences=False))\n",
    "model_mdata.add(Dense(64,activation='relu'))\n",
    "model_mdata.add(Dropout(0.5))\n",
    "model_mdata.add(Dense(32,activation='relu'))\n",
    "model_mdata.add(Dense(num_classes,activation='softmax'))\n",
    "model_mdata.compile(loss=tf.keras.losses.SparseCategoricalCrossentropy(),optimizer=tf.keras.optimizers.Adam(5e-3),metrics=['accuracy'])\n",
    "model_mdata.summary()"
   ]
  },
  {
   "cell_type": "code",
   "execution_count": null,
   "id": "458587e6",
   "metadata": {},
   "outputs": [],
   "source": [
    "import time\n",
    "from tensorflow.keras.callbacks import ModelCheckpoint\n",
    "\n",
    "st = time.time()\n",
    "\n",
    "#create callback\n",
    "filepath = 'my_best_model_LSTM_meta_data.hdf5'\n",
    "checkpoint = ModelCheckpoint(filepath=filepath, \n",
    "                             monitor='val_accuracy',\n",
    "                             verbose=1, \n",
    "                             save_best_only=True,\n",
    "                             mode='max')\n",
    "callbacks = [checkpoint]\n",
    "\n",
    "\n",
    "history=model_mdata.fit(x_train, y_train, validation_data=(x_dev, y_dev),epochs=5, batch_size=128, verbose=1,callbacks=callbacks)\n",
    "\n",
    "elapsed_time = time.time() - st\n",
    "print('Execution time:', time.strftime(\"%H:%M:%S\", time.gmtime(elapsed_time)))"
   ]
  },
  {
   "cell_type": "markdown",
   "id": "aafed59c",
   "metadata": {},
   "source": [
    "# Bidirectionnel LSTM"
   ]
  },
  {
   "cell_type": "code",
   "execution_count": null,
   "id": "b16cfd35",
   "metadata": {},
   "outputs": [],
   "source": [
    "from tensorflow.keras import layers\n",
    "from tensorflow.keras.layers import Bidirectional, LSTM, Embedding"
   ]
  },
  {
   "cell_type": "code",
   "execution_count": null,
   "id": "e337a520",
   "metadata": {},
   "outputs": [],
   "source": [
    "model_bidi_mdata=Sequential()\n",
    "model_bidi_mdata.add(Embedding(len(list(unique_words)),150,input_length=183))\n",
    "model_bidi_mdata.add(Bidirectional(LSTM(64,dropout=0.5, recurrent_dropout=0.5,return_sequences=True)))\n",
    "model_bidi_mdata.add(LSTM(128,dropout=0.5, recurrent_dropout=0.5,return_sequences=True))\n",
    "model_bidi_mdata.add(Bidirectional(LSTM(64,dropout=0.5, recurrent_dropout=0.5,return_sequences=True)))\n",
    "model_bidi_mdata.add(Bidirectional(LSTM(32,dropout=0.5, recurrent_dropout=0.5,return_sequences=False)))\n",
    "model_bidi_mdata.add(Dense(64,activation='relu'))\n",
    "model_bidi_mdata.add(Dropout(0.5))\n",
    "model_bidi_mdata.add(Dense(32,activation='relu'))\n",
    "model_bidi_mdata.add(Dropout(0.2))\n",
    "model_bidi_mdata.add(Dense(num_classes,activation='softmax'))\n",
    "model_bidi_mdata.compile(loss=tf.keras.losses.SparseCategoricalCrossentropy(),optimizer=tf.keras.optimizers.Adam(5e-3),metrics=['accuracy'])\n",
    "model_bidi_mdata.summary()"
   ]
  },
  {
   "cell_type": "code",
   "execution_count": null,
   "id": "9bf61681",
   "metadata": {},
   "outputs": [],
   "source": [
    "import time\n",
    "from tensorflow.keras.callbacks import ModelCheckpoint\n",
    "\n",
    "st = time.time()\n",
    "\n",
    "#create callback\n",
    "filepath = 'my_best_model_bidirectionnel_meta_data.hdf5'\n",
    "checkpoint = ModelCheckpoint(filepath=filepath, \n",
    "                             monitor='val_accuracy',\n",
    "                             verbose=1, \n",
    "                             save_best_only=True,\n",
    "                             mode='max')\n",
    "callbacks = [checkpoint]\n",
    "\n",
    "\n",
    "history=model_bidi_mdata.fit(x_train, y_train, validation_data=(x_dev, y_dev),epochs=5, batch_size=128, verbose=1,callbacks=callbacks)\n",
    "\n",
    "elapsed_time = time.time() - st\n",
    "print('Execution time:', time.strftime(\"%H:%M:%S\", time.gmtime(elapsed_time)))"
   ]
  },
  {
   "cell_type": "code",
   "execution_count": null,
   "id": "a57c69cd",
   "metadata": {},
   "outputs": [],
   "source": []
  }
 ],
 "metadata": {
  "kernelspec": {
   "display_name": "Python 3 (ipykernel)",
   "language": "python",
   "name": "python3"
  },
  "language_info": {
   "codemirror_mode": {
    "name": "ipython",
    "version": 3
   },
   "file_extension": ".py",
   "mimetype": "text/x-python",
   "name": "python",
   "nbconvert_exporter": "python",
   "pygments_lexer": "ipython3",
   "version": "3.9.7"
  }
 },
 "nbformat": 4,
 "nbformat_minor": 5
}
